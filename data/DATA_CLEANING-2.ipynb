{
 "cells": [
  {
   "cell_type": "markdown",
   "id": "8358c396",
   "metadata": {},
   "source": [
    "# Encoding"
   ]
  },
  {
   "cell_type": "markdown",
   "id": "fb042e0c",
   "metadata": {},
   "source": [
    "### Table of Contents\n",
    "\n",
    "1. Introduction\n",
    "\n",
    "2. Replacing Values\n",
    "\n",
    "3. Label Encoding\n",
    "\n",
    "4. One-Hot Encoding\n"
   ]
  },
  {
   "cell_type": "markdown",
   "id": "81de908e",
   "metadata": {},
   "source": [
    "1. Introduction\n",
    "Categorical features can only take on a limited, and usually fixed, number of possible values.\n",
    "\n",
    "These features are typically stored as text values which represent various traits of the observations.\n",
    "\n",
    "For example, gender is described as Male (M) or Female (F),\n",
    "\n",
    "Product Type could be described as electronics, apparels, food etc."
   ]
  },
  {
   "cell_type": "markdown",
   "id": "178b7202",
   "metadata": {},
   "source": [
    "The type of features where the categories are only labeled without any order of precedence are called nominal features.\n",
    "\n",
    "Features which have some order associated with them are called ordinal features.\n",
    "\n",
    "For example, a feature like economic status, with three categories: low, medium and high, which have an order associated with them.\n",
    "There are also continuous features.\n",
    "\n",
    "These are numeric variables that have an infinite number of values between any two values.\n",
    "\n",
    "A continuous variable can be numeric or a date/time."
   ]
  },
  {
   "cell_type": "markdown",
   "id": "d9eadc8f",
   "metadata": {},
   "source": [
    "Problem with Categorical Data:\n",
    "\n",
    "Categorical features may have a very large number of levels, known as high cardinality, (for example, cities or URLs), where most of the levels appear in a relatively small number of instances.\n",
    "\n",
    "Many machine learning models, such as regression or SVM, are algebraic.\n",
    "\n",
    "This means that their input must be numerical.\n",
    "\n",
    "To use these models, categories must be transformed into numbers first, before you can apply the learning algorithm on them."
   ]
  },
  {
   "cell_type": "markdown",
   "id": "777d3bcd",
   "metadata": {},
   "source": [
    "Methods for Encoding Categorical Data:\n",
    "\n",
    "Replacing Values\n",
    "\n",
    "Label Encoding\n",
    "\n",
    "One-Hot Encoding"
   ]
  },
  {
   "cell_type": "code",
   "execution_count": 3,
   "id": "e6cfa4a5",
   "metadata": {},
   "outputs": [],
   "source": [
    "import numpy as np\n",
    "import pandas as pd\n",
    "\n",
    "import matplotlib.pyplot as plt\n",
    "%matplotlib inline\n",
    "\n",
    "import seaborn as sns"
   ]
  },
  {
   "cell_type": "code",
   "execution_count": 4,
   "id": "fb3183a2",
   "metadata": {
    "scrolled": true
   },
   "outputs": [
    {
     "data": {
      "text/html": [
       "<div>\n",
       "<style scoped>\n",
       "    .dataframe tbody tr th:only-of-type {\n",
       "        vertical-align: middle;\n",
       "    }\n",
       "\n",
       "    .dataframe tbody tr th {\n",
       "        vertical-align: top;\n",
       "    }\n",
       "\n",
       "    .dataframe thead th {\n",
       "        text-align: right;\n",
       "    }\n",
       "</style>\n",
       "<table border=\"1\" class=\"dataframe\">\n",
       "  <thead>\n",
       "    <tr style=\"text-align: right;\">\n",
       "      <th></th>\n",
       "      <th>year</th>\n",
       "      <th>month</th>\n",
       "      <th>day</th>\n",
       "      <th>dep_time</th>\n",
       "      <th>dep_delay</th>\n",
       "      <th>arr_time</th>\n",
       "      <th>arr_delay</th>\n",
       "      <th>carrier</th>\n",
       "      <th>tailnum</th>\n",
       "      <th>flight</th>\n",
       "      <th>origin</th>\n",
       "      <th>dest</th>\n",
       "      <th>air_time</th>\n",
       "      <th>distance</th>\n",
       "      <th>hour</th>\n",
       "      <th>minute</th>\n",
       "    </tr>\n",
       "  </thead>\n",
       "  <tbody>\n",
       "    <tr>\n",
       "      <th>0</th>\n",
       "      <td>2014</td>\n",
       "      <td>10</td>\n",
       "      <td>10</td>\n",
       "      <td>2105.0</td>\n",
       "      <td>0.0</td>\n",
       "      <td>2219.0</td>\n",
       "      <td>-11.0</td>\n",
       "      <td>WN</td>\n",
       "      <td>N455WN</td>\n",
       "      <td>4816</td>\n",
       "      <td>PDX</td>\n",
       "      <td>SMF</td>\n",
       "      <td>60.0</td>\n",
       "      <td>479</td>\n",
       "      <td>21.0</td>\n",
       "      <td>5.0</td>\n",
       "    </tr>\n",
       "    <tr>\n",
       "      <th>1</th>\n",
       "      <td>2014</td>\n",
       "      <td>8</td>\n",
       "      <td>13</td>\n",
       "      <td>1944.0</td>\n",
       "      <td>-1.0</td>\n",
       "      <td>2110.0</td>\n",
       "      <td>-3.0</td>\n",
       "      <td>DL</td>\n",
       "      <td>N699DL</td>\n",
       "      <td>761</td>\n",
       "      <td>SEA</td>\n",
       "      <td>JNU</td>\n",
       "      <td>127.0</td>\n",
       "      <td>909</td>\n",
       "      <td>19.0</td>\n",
       "      <td>44.0</td>\n",
       "    </tr>\n",
       "    <tr>\n",
       "      <th>2</th>\n",
       "      <td>2014</td>\n",
       "      <td>2</td>\n",
       "      <td>13</td>\n",
       "      <td>1230.0</td>\n",
       "      <td>-5.0</td>\n",
       "      <td>1434.0</td>\n",
       "      <td>-23.0</td>\n",
       "      <td>AS</td>\n",
       "      <td>N442AS</td>\n",
       "      <td>610</td>\n",
       "      <td>SEA</td>\n",
       "      <td>LAS</td>\n",
       "      <td>109.0</td>\n",
       "      <td>867</td>\n",
       "      <td>12.0</td>\n",
       "      <td>30.0</td>\n",
       "    </tr>\n",
       "    <tr>\n",
       "      <th>3</th>\n",
       "      <td>2014</td>\n",
       "      <td>12</td>\n",
       "      <td>8</td>\n",
       "      <td>1058.0</td>\n",
       "      <td>-2.0</td>\n",
       "      <td>1644.0</td>\n",
       "      <td>-1.0</td>\n",
       "      <td>AA</td>\n",
       "      <td>N3CTAA</td>\n",
       "      <td>1146</td>\n",
       "      <td>SEA</td>\n",
       "      <td>DFW</td>\n",
       "      <td>192.0</td>\n",
       "      <td>1660</td>\n",
       "      <td>10.0</td>\n",
       "      <td>58.0</td>\n",
       "    </tr>\n",
       "    <tr>\n",
       "      <th>4</th>\n",
       "      <td>2014</td>\n",
       "      <td>2</td>\n",
       "      <td>4</td>\n",
       "      <td>1841.0</td>\n",
       "      <td>-4.0</td>\n",
       "      <td>2058.0</td>\n",
       "      <td>13.0</td>\n",
       "      <td>AS</td>\n",
       "      <td>N754AS</td>\n",
       "      <td>302</td>\n",
       "      <td>SEA</td>\n",
       "      <td>SFO</td>\n",
       "      <td>98.0</td>\n",
       "      <td>679</td>\n",
       "      <td>18.0</td>\n",
       "      <td>41.0</td>\n",
       "    </tr>\n",
       "  </tbody>\n",
       "</table>\n",
       "</div>"
      ],
      "text/plain": [
       "   year  month  day  dep_time  dep_delay  arr_time  arr_delay carrier tailnum  \\\n",
       "0  2014     10   10    2105.0        0.0    2219.0      -11.0      WN  N455WN   \n",
       "1  2014      8   13    1944.0       -1.0    2110.0       -3.0      DL  N699DL   \n",
       "2  2014      2   13    1230.0       -5.0    1434.0      -23.0      AS  N442AS   \n",
       "3  2014     12    8    1058.0       -2.0    1644.0       -1.0      AA  N3CTAA   \n",
       "4  2014      2    4    1841.0       -4.0    2058.0       13.0      AS  N754AS   \n",
       "\n",
       "   flight origin dest  air_time  distance  hour  minute  \n",
       "0    4816    PDX  SMF      60.0       479  21.0     5.0  \n",
       "1     761    SEA  JNU     127.0       909  19.0    44.0  \n",
       "2     610    SEA  LAS     109.0       867  12.0    30.0  \n",
       "3    1146    SEA  DFW     192.0      1660  10.0    58.0  \n",
       "4     302    SEA  SFO      98.0       679  18.0    41.0  "
      ]
     },
     "execution_count": 4,
     "metadata": {},
     "output_type": "execute_result"
    }
   ],
   "source": [
    "df_flights = pd.read_csv('https://raw.githubusercontent.com/insaid2018/Term-2/master/Data/flights.csv')\n",
    "df_flights.head()"
   ]
  },
  {
   "cell_type": "code",
   "execution_count": 6,
   "id": "02a9e3c9",
   "metadata": {},
   "outputs": [
    {
     "name": "stdout",
     "output_type": "stream",
     "text": [
      "<class 'pandas.core.frame.DataFrame'>\n",
      "RangeIndex: 16205 entries, 0 to 16204\n",
      "Data columns (total 16 columns):\n",
      " #   Column     Non-Null Count  Dtype  \n",
      "---  ------     --------------  -----  \n",
      " 0   year       16205 non-null  int64  \n",
      " 1   month      16205 non-null  int64  \n",
      " 2   day        16205 non-null  int64  \n",
      " 3   dep_time   16116 non-null  float64\n",
      " 4   dep_delay  16116 non-null  float64\n",
      " 5   arr_time   16106 non-null  float64\n",
      " 6   arr_delay  16075 non-null  float64\n",
      " 7   carrier    16205 non-null  object \n",
      " 8   tailnum    16181 non-null  object \n",
      " 9   flight     16205 non-null  int64  \n",
      " 10  origin     16205 non-null  object \n",
      " 11  dest       16205 non-null  object \n",
      " 12  air_time   16075 non-null  float64\n",
      " 13  distance   16205 non-null  int64  \n",
      " 14  hour       16116 non-null  float64\n",
      " 15  minute     16116 non-null  float64\n",
      "dtypes: float64(7), int64(5), object(4)\n",
      "memory usage: 2.0+ MB\n"
     ]
    }
   ],
   "source": [
    "df_flights.info()"
   ]
  },
  {
   "cell_type": "markdown",
   "id": "a8a746c3",
   "metadata": {},
   "source": [
    "The dataset contains 16205 rows, and 16 columns.\n",
    "\n",
    "12 columns are numeric, and 4 columns are object type."
   ]
  },
  {
   "cell_type": "markdown",
   "id": "37407ae0",
   "metadata": {},
   "source": [
    "# We will only be dealing with categorical features, so it's better to filter them out.\n",
    "\n",
    "We can create a separate DataFrame consisting of only these features by running the following command."
   ]
  },
  {
   "cell_type": "code",
   "execution_count": 7,
   "id": "02e1207b",
   "metadata": {},
   "outputs": [
    {
     "data": {
      "text/html": [
       "<div>\n",
       "<style scoped>\n",
       "    .dataframe tbody tr th:only-of-type {\n",
       "        vertical-align: middle;\n",
       "    }\n",
       "\n",
       "    .dataframe tbody tr th {\n",
       "        vertical-align: top;\n",
       "    }\n",
       "\n",
       "    .dataframe thead th {\n",
       "        text-align: right;\n",
       "    }\n",
       "</style>\n",
       "<table border=\"1\" class=\"dataframe\">\n",
       "  <thead>\n",
       "    <tr style=\"text-align: right;\">\n",
       "      <th></th>\n",
       "      <th>carrier</th>\n",
       "      <th>tailnum</th>\n",
       "      <th>origin</th>\n",
       "      <th>dest</th>\n",
       "    </tr>\n",
       "  </thead>\n",
       "  <tbody>\n",
       "    <tr>\n",
       "      <th>0</th>\n",
       "      <td>WN</td>\n",
       "      <td>N455WN</td>\n",
       "      <td>PDX</td>\n",
       "      <td>SMF</td>\n",
       "    </tr>\n",
       "    <tr>\n",
       "      <th>1</th>\n",
       "      <td>DL</td>\n",
       "      <td>N699DL</td>\n",
       "      <td>SEA</td>\n",
       "      <td>JNU</td>\n",
       "    </tr>\n",
       "    <tr>\n",
       "      <th>2</th>\n",
       "      <td>AS</td>\n",
       "      <td>N442AS</td>\n",
       "      <td>SEA</td>\n",
       "      <td>LAS</td>\n",
       "    </tr>\n",
       "    <tr>\n",
       "      <th>3</th>\n",
       "      <td>AA</td>\n",
       "      <td>N3CTAA</td>\n",
       "      <td>SEA</td>\n",
       "      <td>DFW</td>\n",
       "    </tr>\n",
       "    <tr>\n",
       "      <th>4</th>\n",
       "      <td>AS</td>\n",
       "      <td>N754AS</td>\n",
       "      <td>SEA</td>\n",
       "      <td>SFO</td>\n",
       "    </tr>\n",
       "  </tbody>\n",
       "</table>\n",
       "</div>"
      ],
      "text/plain": [
       "  carrier tailnum origin dest\n",
       "0      WN  N455WN    PDX  SMF\n",
       "1      DL  N699DL    SEA  JNU\n",
       "2      AS  N442AS    SEA  LAS\n",
       "3      AA  N3CTAA    SEA  DFW\n",
       "4      AS  N754AS    SEA  SFO"
      ]
     },
     "execution_count": 7,
     "metadata": {},
     "output_type": "execute_result"
    }
   ],
   "source": [
    "cat_df_flights = df_flights.select_dtypes(include=['object']).copy()\n",
    "cat_df_flights.head()"
   ]
  },
  {
   "cell_type": "code",
   "execution_count": 8,
   "id": "b9468724",
   "metadata": {},
   "outputs": [
    {
     "name": "stdout",
     "output_type": "stream",
     "text": [
      "carrier     0\n",
      "tailnum    24\n",
      "origin      0\n",
      "dest        0\n",
      "dtype: int64\n"
     ]
    }
   ],
   "source": [
    "print(cat_df_flights.isnull().sum())   # checking null values"
   ]
  },
  {
   "cell_type": "markdown",
   "id": "cb7186b9",
   "metadata": {},
   "source": [
    "It seems that only the tailnum column has null values.\n",
    "\n",
    "We will do a mode imputation for those null values."
   ]
  },
  {
   "cell_type": "code",
   "execution_count": 9,
   "id": "27ae7c5b",
   "metadata": {},
   "outputs": [
    {
     "data": {
      "text/plain": [
       "N219AG    91\n",
       "N225AG    82\n",
       "N619AS    79\n",
       "N217AG    78\n",
       "N611AS    77\n",
       "          ..\n",
       "N664UA     1\n",
       "N4YGAA     1\n",
       "N302NB     1\n",
       "N764SK     1\n",
       "N7733B     1\n",
       "Name: tailnum, Length: 2558, dtype: int64"
      ]
     },
     "execution_count": 9,
     "metadata": {},
     "output_type": "execute_result"
    }
   ],
   "source": [
    "cat_df_flights['tailnum'].value_counts()"
   ]
  },
  {
   "cell_type": "code",
   "execution_count": 11,
   "id": "a77b39fa",
   "metadata": {},
   "outputs": [],
   "source": [
    "cat_df_flights = cat_df_flights.fillna(cat_df_flights['tailnum'].value_counts().index[0])"
   ]
  },
  {
   "cell_type": "markdown",
   "id": "2c4b9b64",
   "metadata": {},
   "source": [
    "We filled the null values in the tailnum column using the mode value N219AG."
   ]
  },
  {
   "cell_type": "code",
   "execution_count": 13,
   "id": "b8278f43",
   "metadata": {},
   "outputs": [
    {
     "name": "stdout",
     "output_type": "stream",
     "text": [
      "0\n"
     ]
    }
   ],
   "source": [
    "print(cat_df_flights.isnull().values.sum())"
   ]
  },
  {
   "cell_type": "markdown",
   "id": "3c451401",
   "metadata": {},
   "source": [
    "There are no null values in the dataset.\n",
    "\n",
    "Let's check the frequency distribution of categories within the carrier feature."
   ]
  },
  {
   "cell_type": "code",
   "execution_count": 14,
   "id": "75fcbe5e",
   "metadata": {},
   "outputs": [
    {
     "name": "stdout",
     "output_type": "stream",
     "text": [
      "AS    6181\n",
      "WN    2362\n",
      "OO    1891\n",
      "DL    1695\n",
      "UA    1666\n",
      "AA     758\n",
      "US     601\n",
      "B6     336\n",
      "VX     331\n",
      "F9     275\n",
      "HA     109\n",
      "Name: carrier, dtype: int64\n"
     ]
    }
   ],
   "source": [
    "print(cat_df_flights['carrier'].value_counts())"
   ]
  },
  {
   "cell_type": "markdown",
   "id": "3349fc55",
   "metadata": {},
   "source": [
    "To know the count of distinct categories within the feature use this code."
   ]
  },
  {
   "cell_type": "code",
   "execution_count": 15,
   "id": "f5b6686a",
   "metadata": {},
   "outputs": [
    {
     "name": "stdout",
     "output_type": "stream",
     "text": [
      "11\n"
     ]
    }
   ],
   "source": [
    "print(cat_df_flights['carrier'].value_counts().count())"
   ]
  },
  {
   "cell_type": "markdown",
   "id": "c903ecbe",
   "metadata": {},
   "source": [
    "Plotting the Frequency Distribution of Carriers."
   ]
  },
  {
   "cell_type": "code",
   "execution_count": 16,
   "id": "661e2839",
   "metadata": {},
   "outputs": [],
   "source": [
    "carrier_count = cat_df_flights['carrier'].value_counts()"
   ]
  },
  {
   "cell_type": "code",
   "execution_count": 17,
   "id": "f0259e6d",
   "metadata": {},
   "outputs": [
    {
     "name": "stderr",
     "output_type": "stream",
     "text": [
      "C:\\Users\\shubh\\anaconda3\\lib\\site-packages\\seaborn\\_decorators.py:36: FutureWarning: Pass the following variables as keyword args: x, y. From version 0.12, the only valid positional argument will be `data`, and passing other arguments without an explicit keyword will result in an error or misinterpretation.\n",
      "  warnings.warn(\n"
     ]
    },
    {
     "data": {
      "text/plain": [
       "Text(0.5, 0, 'Carrier')"
      ]
     },
     "execution_count": 17,
     "metadata": {},
     "output_type": "execute_result"
    },
    {
     "data": {
      "image/png": "[encoded data removed]",
      "text/plain": [
       "<Figure size 432x288 with 1 Axes>"
      ]
     },
     "metadata": {},
     "output_type": "display_data"
    }
   ],
   "source": [
    "sns.set(style=\"darkgrid\")\n",
    "sns.barplot(carrier_count.index, carrier_count.values, alpha=0.9)\n",
    "plt.title('Frequency Distribution of Carriers')\n",
    "plt.ylabel('Number of Occurrences', fontsize=12)\n",
    "plt.xlabel('Carrier', fontsize=12)"
   ]
  },
  {
   "cell_type": "markdown",
   "id": "b759a3ed",
   "metadata": {},
   "source": [
    "###### AS has the most number of occurrences, followed by WN.\n",
    "\n",
    "HA is having the least number of occurrences."
   ]
  },
  {
   "cell_type": "markdown",
   "id": "01d40cf4",
   "metadata": {},
   "source": [
    "### 2. Replacing Values"
   ]
  },
  {
   "cell_type": "markdown",
   "id": "5ba20736",
   "metadata": {},
   "source": [
    "The most basic encoding method is just replacing the categories with the desired numbers.\n",
    "\n",
    "This can be achieved with the help of the replace() function in pandas.\n",
    "\n",
    "The idea is that you have the liberty to choose whatever numbers you want to assign to the categories according to the business use case."
   ]
  },
  {
   "cell_type": "markdown",
   "id": "65de83d1",
   "metadata": {},
   "source": [
    "Creating a dictionary which contains mapping numbers for each category in the carrier column:"
   ]
  },
  {
   "cell_type": "code",
   "execution_count": 18,
   "id": "441185db",
   "metadata": {},
   "outputs": [],
   "source": [
    "replace_map = {'carrier': {'AA': 1, 'AS': 2, 'B6': 3, 'DL': 4, 'F9': 5, 'HA': 6, 'OO': 7 , 'UA': 8 , 'US': 9,'VX': 10,'WN': 11}}"
   ]
  },
  {
   "cell_type": "markdown",
   "id": "e7d03749",
   "metadata": {},
   "source": [
    "Note: Defining a mapping via a hard coded dictionary is easy when the number of categories is low, like in this case which is 11.\n",
    "\n",
    "We can achieve the same mapping with the help of dictionary comprehensions.\n",
    "\n",
    "This will be useful when the categories count is high and we don't want to type out each mapping.\n",
    "We will store the category names in a list called labels and then zip it to a seqeunce of numbers and iterate over it."
   ]
  },
  {
   "cell_type": "code",
   "execution_count": 19,
   "id": "9c66be2f",
   "metadata": {},
   "outputs": [
    {
     "name": "stdout",
     "output_type": "stream",
     "text": [
      "{'carrier': {'AA': 1, 'AS': 2, 'B6': 3, 'DL': 4, 'F9': 5, 'HA': 6, 'OO': 7, 'UA': 8, 'US': 9, 'VX': 10, 'WN': 11}}\n"
     ]
    }
   ],
   "source": [
    "labels = cat_df_flights['carrier'].astype('category').cat.categories.tolist()\n",
    "replace_map_comp = {'carrier' : {k: v for k,v in zip(labels,list(range(1,len(labels)+1)))}}\n",
    "\n",
    "print(replace_map_comp)"
   ]
  },
  {
   "cell_type": "markdown",
   "id": "e42e6520",
   "metadata": {},
   "source": [
    "ote: Throughout the Encoding topic, we will be making a copy of the dataset via the .copy() method to practice each encoding technique to ensure that the original DataFrame stays intact and whatever changes we are doing happen only in the copied one."
   ]
  },
  {
   "cell_type": "code",
   "execution_count": 20,
   "id": "4ff61ef8",
   "metadata": {},
   "outputs": [],
   "source": [
    "cat_df_flights_replace = cat_df_flights.copy()"
   ]
  },
  {
   "cell_type": "markdown",
   "id": "c56c8b3f",
   "metadata": {},
   "source": [
    "We will use the replace() function on the DataFrame by passing the mapping dictionary as argument."
   ]
  },
  {
   "cell_type": "code",
   "execution_count": 21,
   "id": "8529f92e",
   "metadata": {},
   "outputs": [
    {
     "name": "stdout",
     "output_type": "stream",
     "text": [
      "   carrier tailnum origin dest\n",
      "0       11  N455WN    PDX  SMF\n",
      "1        4  N699DL    SEA  JNU\n",
      "2        2  N442AS    SEA  LAS\n",
      "3        1  N3CTAA    SEA  DFW\n",
      "4        2  N754AS    SEA  SFO\n"
     ]
    }
   ],
   "source": [
    "cat_df_flights_replace.replace(replace_map_comp, inplace=True)\n",
    "print(cat_df_flights_replace.head())"
   ]
  },
  {
   "cell_type": "markdown",
   "id": "6299091c",
   "metadata": {},
   "source": [
    "We have encoded the categories with the mapped numbers in our DataFrame.\n",
    "\n",
    "We can also check the dtype of the newly encoded column, which is now converted to integers."
   ]
  },
  {
   "cell_type": "code",
   "execution_count": 22,
   "id": "dd5a2a6b",
   "metadata": {},
   "outputs": [
    {
     "name": "stdout",
     "output_type": "stream",
     "text": [
      "int64\n"
     ]
    }
   ],
   "source": [
    "print(cat_df_flights_replace['carrier'].dtypes)"
   ]
  },
  {
   "cell_type": "markdown",
   "id": "51800835",
   "metadata": {},
   "source": [
    "### 3. Label Encoding"
   ]
  },
  {
   "cell_type": "markdown",
   "id": "2a2fac4b",
   "metadata": {},
   "source": [
    "Another approach is to encode categorical values with a technique called \"label encoding\".\n",
    "\n",
    "It allows us to convert each value in a column to a number.\n",
    "\n",
    "Numerical labels are always between 0 and n_categories-1."
   ]
  },
  {
   "cell_type": "code",
   "execution_count": 23,
   "id": "a52dbad9",
   "metadata": {},
   "outputs": [],
   "source": [
    "cat_df_flights_lc = cat_df_flights.copy()"
   ]
  },
  {
   "cell_type": "markdown",
   "id": "db513950",
   "metadata": {},
   "source": [
    "In Python, it's a good practice to typecast categorical features to a category dtype because they make the operations on such columns much faster than the object dtype.\n",
    "\n",
    "Also, the size of the category dtype columns is much smaller than the object dtype ones.\n",
    "\n",
    "We can do the typecasting by using .astype() method on your columns."
   ]
  },
  {
   "cell_type": "code",
   "execution_count": 24,
   "id": "8247f7cc",
   "metadata": {},
   "outputs": [
    {
     "name": "stdout",
     "output_type": "stream",
     "text": [
      "carrier    category\n",
      "tailnum      object\n",
      "origin     category\n",
      "dest         object\n",
      "dtype: object\n"
     ]
    }
   ],
   "source": [
    "cat_df_flights_lc['carrier'] = cat_df_flights_lc['carrier'].astype('category')\n",
    "cat_df_flights_lc['origin'] = cat_df_flights_lc['origin'].astype('category')                                                              \n",
    "print(cat_df_flights_lc.dtypes)"
   ]
  },
  {
   "cell_type": "markdown",
   "id": "98bb8f45",
   "metadata": {},
   "source": [
    "We can validate the faster operation of the category dtype by timing the execution time of the same operation done on a DataFrame with columns as category dtype and object dtype by using the time library.\n",
    "\n",
    "Let's say we want to calculate the number of flights for each carrier from each origin places, we can use the .groupby() and .count() methods on our DataFrame to do so."
   ]
  },
  {
   "cell_type": "code",
   "execution_count": 25,
   "id": "8617d064",
   "metadata": {},
   "outputs": [],
   "source": [
    "import time"
   ]
  },
  {
   "cell_type": "code",
   "execution_count": 28,
   "id": "353c4096",
   "metadata": {},
   "outputs": [
    {
     "name": "stdout",
     "output_type": "stream",
     "text": [
      "8.09 ms ± 210 µs per loop (mean ± std. dev. of 7 runs, 100 loops each)\n"
     ]
    }
   ],
   "source": [
    "%timeit cat_df_flights.groupby(['origin','carrier']).count() #DataFrame with object dtype columns"
   ]
  },
  {
   "cell_type": "code",
   "execution_count": 27,
   "id": "02ff1590",
   "metadata": {},
   "outputs": [
    {
     "name": "stdout",
     "output_type": "stream",
     "text": [
      "<class 'pandas.core.frame.DataFrame'>\n",
      "RangeIndex: 16205 entries, 0 to 16204\n",
      "Data columns (total 4 columns):\n",
      " #   Column   Non-Null Count  Dtype \n",
      "---  ------   --------------  ----- \n",
      " 0   carrier  16205 non-null  object\n",
      " 1   tailnum  16205 non-null  object\n",
      " 2   origin   16205 non-null  object\n",
      " 3   dest     16205 non-null  object\n",
      "dtypes: object(4)\n",
      "memory usage: 506.5+ KB\n"
     ]
    }
   ],
   "source": [
    "cat_df_flights.info()"
   ]
  },
  {
   "cell_type": "markdown",
   "id": "854c7b68",
   "metadata": {},
   "source": [
    "- The **object** dtype column operation took **5.07 ms** per loop.\n",
    "\n",
    "- Also, the **size** of the Dataframe is **506.6 KB**"
   ]
  },
  {
   "cell_type": "code",
   "execution_count": 43,
   "id": "483997b1",
   "metadata": {},
   "outputs": [
    {
     "name": "stdout",
     "output_type": "stream",
     "text": [
      "2.1 ms ± 71.3 µs per loop (mean ± std. dev. of 7 runs, 100 loops each)\n"
     ]
    }
   ],
   "source": [
    "%timeit cat_df_flights_lc.groupby(['origin','carrier']).count() #DataFrame with category dtype columns"
   ]
  },
  {
   "cell_type": "code",
   "execution_count": 82,
   "id": "6fa909fe",
   "metadata": {},
   "outputs": [
    {
     "name": "stdout",
     "output_type": "stream",
     "text": [
      "<class 'pandas.core.frame.DataFrame'>\n",
      "RangeIndex: 16205 entries, 0 to 16204\n",
      "Data columns (total 4 columns):\n",
      " #   Column   Non-Null Count  Dtype   \n",
      "---  ------   --------------  -----   \n",
      " 0   carrier  16205 non-null  category\n",
      " 1   tailnum  16205 non-null  object  \n",
      " 2   origin   16205 non-null  category\n",
      " 3   dest     16205 non-null  object  \n",
      "dtypes: category(2), object(2)\n",
      "memory usage: 285.5+ KB\n"
     ]
    }
   ],
   "source": [
    "cat_df_flights_lc.info()"
   ]
  },
  {
   "cell_type": "markdown",
   "id": "11d64064",
   "metadata": {},
   "source": [
    "- The **category** dtype column operation took **4.58 ms** per loop.\n",
    "\n",
    "- Also, the **size** of the Dataframe is **285.5 KB**\n",
    "\n",
    "- The DataFrame with **category** dtype is much **faster**, and **smaller** in **size**."
   ]
  },
  {
   "cell_type": "markdown",
   "id": "d83d50ec",
   "metadata": {},
   "source": [
    "We can do label encoding via attributes .cat.codes on our DataFrame's column.\n",
    "\n",
    "This can only be applied on columns having category dtype."
   ]
  },
  {
   "cell_type": "code",
   "execution_count": 29,
   "id": "9ad05bd0",
   "metadata": {},
   "outputs": [],
   "source": [
    "cat_df_flights_lc['carrier'] = cat_df_flights_lc['carrier'].cat.codes"
   ]
  },
  {
   "cell_type": "code",
   "execution_count": 30,
   "id": "b3ff4a42",
   "metadata": {},
   "outputs": [
    {
     "data": {
      "text/html": [
       "<div>\n",
       "<style scoped>\n",
       "    .dataframe tbody tr th:only-of-type {\n",
       "        vertical-align: middle;\n",
       "    }\n",
       "\n",
       "    .dataframe tbody tr th {\n",
       "        vertical-align: top;\n",
       "    }\n",
       "\n",
       "    .dataframe thead th {\n",
       "        text-align: right;\n",
       "    }\n",
       "</style>\n",
       "<table border=\"1\" class=\"dataframe\">\n",
       "  <thead>\n",
       "    <tr style=\"text-align: right;\">\n",
       "      <th></th>\n",
       "      <th>carrier</th>\n",
       "      <th>tailnum</th>\n",
       "      <th>origin</th>\n",
       "      <th>dest</th>\n",
       "    </tr>\n",
       "  </thead>\n",
       "  <tbody>\n",
       "    <tr>\n",
       "      <th>0</th>\n",
       "      <td>10</td>\n",
       "      <td>N455WN</td>\n",
       "      <td>PDX</td>\n",
       "      <td>SMF</td>\n",
       "    </tr>\n",
       "    <tr>\n",
       "      <th>1</th>\n",
       "      <td>3</td>\n",
       "      <td>N699DL</td>\n",
       "      <td>SEA</td>\n",
       "      <td>JNU</td>\n",
       "    </tr>\n",
       "    <tr>\n",
       "      <th>2</th>\n",
       "      <td>1</td>\n",
       "      <td>N442AS</td>\n",
       "      <td>SEA</td>\n",
       "      <td>LAS</td>\n",
       "    </tr>\n",
       "    <tr>\n",
       "      <th>3</th>\n",
       "      <td>0</td>\n",
       "      <td>N3CTAA</td>\n",
       "      <td>SEA</td>\n",
       "      <td>DFW</td>\n",
       "    </tr>\n",
       "    <tr>\n",
       "      <th>4</th>\n",
       "      <td>1</td>\n",
       "      <td>N754AS</td>\n",
       "      <td>SEA</td>\n",
       "      <td>SFO</td>\n",
       "    </tr>\n",
       "  </tbody>\n",
       "</table>\n",
       "</div>"
      ],
      "text/plain": [
       "   carrier tailnum origin dest\n",
       "0       10  N455WN    PDX  SMF\n",
       "1        3  N699DL    SEA  JNU\n",
       "2        1  N442AS    SEA  LAS\n",
       "3        0  N3CTAA    SEA  DFW\n",
       "4        1  N754AS    SEA  SFO"
      ]
     },
     "execution_count": 30,
     "metadata": {},
     "output_type": "execute_result"
    }
   ],
   "source": [
    "# Alphabetically labeled from 0 to 10\n",
    "cat_df_flights_lc.head()"
   ]
  },
  {
   "cell_type": "code",
   "execution_count": 31,
   "id": "fa1b93c9",
   "metadata": {},
   "outputs": [
    {
     "data": {
      "text/plain": [
       "1     6181\n",
       "10    2362\n",
       "6     1891\n",
       "3     1695\n",
       "7     1666\n",
       "0      758\n",
       "8      601\n",
       "2      336\n",
       "9      331\n",
       "4      275\n",
       "5      109\n",
       "Name: carrier, dtype: int64"
      ]
     },
     "execution_count": 31,
     "metadata": {},
     "output_type": "execute_result"
    }
   ],
   "source": [
    "cat_df_flights_lc['carrier'].value_counts()"
   ]
  },
  {
   "cell_type": "markdown",
   "id": "75038b12",
   "metadata": {},
   "source": [
    "- The **labels** are **alphabetically labeled** from **0 to 10**."
   ]
  },
  {
   "cell_type": "markdown",
   "id": "39966f46",
   "metadata": {},
   "source": [
    "#### **Using np.where**"
   ]
  },
  {
   "cell_type": "markdown",
   "id": "94e62b47",
   "metadata": {},
   "source": [
    "Sometimes, we might just want to **encode** a **bunch** of **categories** within a feature **to some numeric value** and **encode** all the **other categories** to some **other numeric value**.\n",
    "\n",
    "- We can do this by using numpy's **where()** function.\n",
    "\n",
    "- We will encode all the **US carrier flights** to value **1** and **other carriers** to value **0**.\n",
    "\n",
    "  - This will **create** a **new column** in your DataFrame with the encodings.\n",
    "  \n",
    "  - Later, if we want to **drop** the **original column**, you can do so by using the **drop()** function in pandas."
   ]
  },
  {
   "cell_type": "code",
   "execution_count": 32,
   "id": "2c94ee2f",
   "metadata": {},
   "outputs": [],
   "source": [
    "cat_df_flights_specific = cat_df_flights.copy()"
   ]
  },
  {
   "cell_type": "markdown",
   "id": "9fa54107",
   "metadata": {},
   "source": [
    "- If the **carrier** value **contains US**, **replace** it **with 1**.\n",
    "\n",
    "- **Otherwise**, **replace** the carrier value **with 0**.\n",
    "\n",
    "- And, **save** the **outputs** in `US_code` columns in the Dataframe."
   ]
  },
  {
   "cell_type": "code",
   "execution_count": 33,
   "id": "31ccfddf",
   "metadata": {},
   "outputs": [
    {
     "data": {
      "text/html": [
       "<div>\n",
       "<style scoped>\n",
       "    .dataframe tbody tr th:only-of-type {\n",
       "        vertical-align: middle;\n",
       "    }\n",
       "\n",
       "    .dataframe tbody tr th {\n",
       "        vertical-align: top;\n",
       "    }\n",
       "\n",
       "    .dataframe thead th {\n",
       "        text-align: right;\n",
       "    }\n",
       "</style>\n",
       "<table border=\"1\" class=\"dataframe\">\n",
       "  <thead>\n",
       "    <tr style=\"text-align: right;\">\n",
       "      <th></th>\n",
       "      <th>carrier</th>\n",
       "      <th>tailnum</th>\n",
       "      <th>origin</th>\n",
       "      <th>dest</th>\n",
       "      <th>US_code</th>\n",
       "    </tr>\n",
       "  </thead>\n",
       "  <tbody>\n",
       "    <tr>\n",
       "      <th>0</th>\n",
       "      <td>WN</td>\n",
       "      <td>N455WN</td>\n",
       "      <td>PDX</td>\n",
       "      <td>SMF</td>\n",
       "      <td>0</td>\n",
       "    </tr>\n",
       "    <tr>\n",
       "      <th>1</th>\n",
       "      <td>DL</td>\n",
       "      <td>N699DL</td>\n",
       "      <td>SEA</td>\n",
       "      <td>JNU</td>\n",
       "      <td>0</td>\n",
       "    </tr>\n",
       "    <tr>\n",
       "      <th>2</th>\n",
       "      <td>AS</td>\n",
       "      <td>N442AS</td>\n",
       "      <td>SEA</td>\n",
       "      <td>LAS</td>\n",
       "      <td>0</td>\n",
       "    </tr>\n",
       "    <tr>\n",
       "      <th>3</th>\n",
       "      <td>AA</td>\n",
       "      <td>N3CTAA</td>\n",
       "      <td>SEA</td>\n",
       "      <td>DFW</td>\n",
       "      <td>0</td>\n",
       "    </tr>\n",
       "    <tr>\n",
       "      <th>4</th>\n",
       "      <td>AS</td>\n",
       "      <td>N754AS</td>\n",
       "      <td>SEA</td>\n",
       "      <td>SFO</td>\n",
       "      <td>0</td>\n",
       "    </tr>\n",
       "  </tbody>\n",
       "</table>\n",
       "</div>"
      ],
      "text/plain": [
       "  carrier tailnum origin dest  US_code\n",
       "0      WN  N455WN    PDX  SMF        0\n",
       "1      DL  N699DL    SEA  JNU        0\n",
       "2      AS  N442AS    SEA  LAS        0\n",
       "3      AA  N3CTAA    SEA  DFW        0\n",
       "4      AS  N754AS    SEA  SFO        0"
      ]
     },
     "execution_count": 33,
     "metadata": {},
     "output_type": "execute_result"
    }
   ],
   "source": [
    "cat_df_flights_specific['US_code'] = np.where(cat_df_flights_specific['carrier'].str.contains('US'), 1, 0)\n",
    "cat_df_flights_specific.head()"
   ]
  },
  {
   "cell_type": "code",
   "execution_count": 34,
   "id": "5eb2eb3b",
   "metadata": {},
   "outputs": [
    {
     "data": {
      "text/html": [
       "<div>\n",
       "<style scoped>\n",
       "    .dataframe tbody tr th:only-of-type {\n",
       "        vertical-align: middle;\n",
       "    }\n",
       "\n",
       "    .dataframe tbody tr th {\n",
       "        vertical-align: top;\n",
       "    }\n",
       "\n",
       "    .dataframe thead th {\n",
       "        text-align: right;\n",
       "    }\n",
       "</style>\n",
       "<table border=\"1\" class=\"dataframe\">\n",
       "  <thead>\n",
       "    <tr style=\"text-align: right;\">\n",
       "      <th></th>\n",
       "      <th>carrier</th>\n",
       "      <th>tailnum</th>\n",
       "      <th>origin</th>\n",
       "      <th>dest</th>\n",
       "      <th>US_code</th>\n",
       "    </tr>\n",
       "  </thead>\n",
       "  <tbody>\n",
       "    <tr>\n",
       "      <th>0</th>\n",
       "      <td>WN</td>\n",
       "      <td>N455WN</td>\n",
       "      <td>PDX</td>\n",
       "      <td>SMF</td>\n",
       "      <td>0</td>\n",
       "    </tr>\n",
       "    <tr>\n",
       "      <th>1</th>\n",
       "      <td>DL</td>\n",
       "      <td>N699DL</td>\n",
       "      <td>SEA</td>\n",
       "      <td>JNU</td>\n",
       "      <td>0</td>\n",
       "    </tr>\n",
       "    <tr>\n",
       "      <th>2</th>\n",
       "      <td>AS</td>\n",
       "      <td>N442AS</td>\n",
       "      <td>SEA</td>\n",
       "      <td>LAS</td>\n",
       "      <td>0</td>\n",
       "    </tr>\n",
       "    <tr>\n",
       "      <th>3</th>\n",
       "      <td>AA</td>\n",
       "      <td>N3CTAA</td>\n",
       "      <td>SEA</td>\n",
       "      <td>DFW</td>\n",
       "      <td>0</td>\n",
       "    </tr>\n",
       "    <tr>\n",
       "      <th>4</th>\n",
       "      <td>AS</td>\n",
       "      <td>N754AS</td>\n",
       "      <td>SEA</td>\n",
       "      <td>SFO</td>\n",
       "      <td>0</td>\n",
       "    </tr>\n",
       "    <tr>\n",
       "      <th>5</th>\n",
       "      <td>AS</td>\n",
       "      <td>N615AS</td>\n",
       "      <td>PDX</td>\n",
       "      <td>LAS</td>\n",
       "      <td>0</td>\n",
       "    </tr>\n",
       "    <tr>\n",
       "      <th>6</th>\n",
       "      <td>UA</td>\n",
       "      <td>N838UA</td>\n",
       "      <td>PDX</td>\n",
       "      <td>SFO</td>\n",
       "      <td>0</td>\n",
       "    </tr>\n",
       "    <tr>\n",
       "      <th>7</th>\n",
       "      <td>DL</td>\n",
       "      <td>N702TW</td>\n",
       "      <td>SEA</td>\n",
       "      <td>JFK</td>\n",
       "      <td>0</td>\n",
       "    </tr>\n",
       "    <tr>\n",
       "      <th>8</th>\n",
       "      <td>AS</td>\n",
       "      <td>N644AS</td>\n",
       "      <td>SEA</td>\n",
       "      <td>BUR</td>\n",
       "      <td>0</td>\n",
       "    </tr>\n",
       "    <tr>\n",
       "      <th>9</th>\n",
       "      <td>AS</td>\n",
       "      <td>N457AS</td>\n",
       "      <td>SEA</td>\n",
       "      <td>OAK</td>\n",
       "      <td>0</td>\n",
       "    </tr>\n",
       "    <tr>\n",
       "      <th>10</th>\n",
       "      <td>WN</td>\n",
       "      <td>N746SW</td>\n",
       "      <td>PDX</td>\n",
       "      <td>MDW</td>\n",
       "      <td>0</td>\n",
       "    </tr>\n",
       "    <tr>\n",
       "      <th>11</th>\n",
       "      <td>DL</td>\n",
       "      <td>N584NW</td>\n",
       "      <td>SEA</td>\n",
       "      <td>HNL</td>\n",
       "      <td>0</td>\n",
       "    </tr>\n",
       "    <tr>\n",
       "      <th>12</th>\n",
       "      <td>B6</td>\n",
       "      <td>N603JB</td>\n",
       "      <td>PDX</td>\n",
       "      <td>JFK</td>\n",
       "      <td>0</td>\n",
       "    </tr>\n",
       "    <tr>\n",
       "      <th>13</th>\n",
       "      <td>OO</td>\n",
       "      <td>N566SW</td>\n",
       "      <td>SEA</td>\n",
       "      <td>PDX</td>\n",
       "      <td>0</td>\n",
       "    </tr>\n",
       "    <tr>\n",
       "      <th>14</th>\n",
       "      <td>AA</td>\n",
       "      <td>N592AA</td>\n",
       "      <td>PDX</td>\n",
       "      <td>DFW</td>\n",
       "      <td>0</td>\n",
       "    </tr>\n",
       "    <tr>\n",
       "      <th>15</th>\n",
       "      <td>AS</td>\n",
       "      <td>N409AS</td>\n",
       "      <td>SEA</td>\n",
       "      <td>BOS</td>\n",
       "      <td>0</td>\n",
       "    </tr>\n",
       "    <tr>\n",
       "      <th>16</th>\n",
       "      <td>WN</td>\n",
       "      <td>N8616C</td>\n",
       "      <td>PDX</td>\n",
       "      <td>LAS</td>\n",
       "      <td>0</td>\n",
       "    </tr>\n",
       "    <tr>\n",
       "      <th>17</th>\n",
       "      <td>OO</td>\n",
       "      <td>N294SW</td>\n",
       "      <td>SEA</td>\n",
       "      <td>PDX</td>\n",
       "      <td>0</td>\n",
       "    </tr>\n",
       "    <tr>\n",
       "      <th>18</th>\n",
       "      <td>AS</td>\n",
       "      <td>N551AS</td>\n",
       "      <td>SEA</td>\n",
       "      <td>SNA</td>\n",
       "      <td>0</td>\n",
       "    </tr>\n",
       "    <tr>\n",
       "      <th>19</th>\n",
       "      <td>OO</td>\n",
       "      <td>N290SW</td>\n",
       "      <td>PDX</td>\n",
       "      <td>RDM</td>\n",
       "      <td>0</td>\n",
       "    </tr>\n",
       "  </tbody>\n",
       "</table>\n",
       "</div>"
      ],
      "text/plain": [
       "   carrier tailnum origin dest  US_code\n",
       "0       WN  N455WN    PDX  SMF        0\n",
       "1       DL  N699DL    SEA  JNU        0\n",
       "2       AS  N442AS    SEA  LAS        0\n",
       "3       AA  N3CTAA    SEA  DFW        0\n",
       "4       AS  N754AS    SEA  SFO        0\n",
       "5       AS  N615AS    PDX  LAS        0\n",
       "6       UA  N838UA    PDX  SFO        0\n",
       "7       DL  N702TW    SEA  JFK        0\n",
       "8       AS  N644AS    SEA  BUR        0\n",
       "9       AS  N457AS    SEA  OAK        0\n",
       "10      WN  N746SW    PDX  MDW        0\n",
       "11      DL  N584NW    SEA  HNL        0\n",
       "12      B6  N603JB    PDX  JFK        0\n",
       "13      OO  N566SW    SEA  PDX        0\n",
       "14      AA  N592AA    PDX  DFW        0\n",
       "15      AS  N409AS    SEA  BOS        0\n",
       "16      WN  N8616C    PDX  LAS        0\n",
       "17      OO  N294SW    SEA  PDX        0\n",
       "18      AS  N551AS    SEA  SNA        0\n",
       "19      OO  N290SW    PDX  RDM        0"
      ]
     },
     "execution_count": 34,
     "metadata": {},
     "output_type": "execute_result"
    }
   ],
   "source": [
    "cat_df_flights_specific.head(20)"
   ]
  },
  {
   "cell_type": "code",
   "execution_count": 55,
   "id": "4be98b1b",
   "metadata": {},
   "outputs": [
    {
     "data": {
      "text/plain": [
       "0    15604\n",
       "1      601\n",
       "Name: US_code, dtype: int64"
      ]
     },
     "execution_count": 55,
     "metadata": {},
     "output_type": "execute_result"
    }
   ],
   "source": [
    "cat_df_flights_specific['US_code'].value_counts()"
   ]
  },
  {
   "cell_type": "markdown",
   "id": "dc282e0c",
   "metadata": {},
   "source": [
    "- The column contains **two** labels **0** and **1**."
   ]
  },
  {
   "cell_type": "markdown",
   "id": "d2968ca2",
   "metadata": {},
   "source": [
    "### Using LabelEncoder"
   ]
  },
  {
   "cell_type": "code",
   "execution_count": 37,
   "id": "89ad4e15",
   "metadata": {},
   "outputs": [],
   "source": [
    "from sklearn.preprocessing import LabelEncoder"
   ]
  },
  {
   "cell_type": "code",
   "execution_count": 38,
   "id": "f3e7ba6d",
   "metadata": {},
   "outputs": [],
   "source": [
    "cat_df_flights_sklearn = cat_df_flights.copy()"
   ]
  },
  {
   "cell_type": "code",
   "execution_count": 39,
   "id": "9186f7ad",
   "metadata": {},
   "outputs": [],
   "source": [
    "lb_make = LabelEncoder()\n",
    "cat_df_flights_sklearn['carrier_code'] = lb_make.fit_transform(cat_df_flights['carrier'])"
   ]
  },
  {
   "cell_type": "code",
   "execution_count": 40,
   "id": "d6b91090",
   "metadata": {},
   "outputs": [
    {
     "data": {
      "text/html": [
       "<div>\n",
       "<style scoped>\n",
       "    .dataframe tbody tr th:only-of-type {\n",
       "        vertical-align: middle;\n",
       "    }\n",
       "\n",
       "    .dataframe tbody tr th {\n",
       "        vertical-align: top;\n",
       "    }\n",
       "\n",
       "    .dataframe thead th {\n",
       "        text-align: right;\n",
       "    }\n",
       "</style>\n",
       "<table border=\"1\" class=\"dataframe\">\n",
       "  <thead>\n",
       "    <tr style=\"text-align: right;\">\n",
       "      <th></th>\n",
       "      <th>carrier</th>\n",
       "      <th>tailnum</th>\n",
       "      <th>origin</th>\n",
       "      <th>dest</th>\n",
       "      <th>carrier_code</th>\n",
       "    </tr>\n",
       "  </thead>\n",
       "  <tbody>\n",
       "    <tr>\n",
       "      <th>0</th>\n",
       "      <td>WN</td>\n",
       "      <td>N455WN</td>\n",
       "      <td>PDX</td>\n",
       "      <td>SMF</td>\n",
       "      <td>10</td>\n",
       "    </tr>\n",
       "    <tr>\n",
       "      <th>1</th>\n",
       "      <td>DL</td>\n",
       "      <td>N699DL</td>\n",
       "      <td>SEA</td>\n",
       "      <td>JNU</td>\n",
       "      <td>3</td>\n",
       "    </tr>\n",
       "    <tr>\n",
       "      <th>2</th>\n",
       "      <td>AS</td>\n",
       "      <td>N442AS</td>\n",
       "      <td>SEA</td>\n",
       "      <td>LAS</td>\n",
       "      <td>1</td>\n",
       "    </tr>\n",
       "    <tr>\n",
       "      <th>3</th>\n",
       "      <td>AA</td>\n",
       "      <td>N3CTAA</td>\n",
       "      <td>SEA</td>\n",
       "      <td>DFW</td>\n",
       "      <td>0</td>\n",
       "    </tr>\n",
       "    <tr>\n",
       "      <th>4</th>\n",
       "      <td>AS</td>\n",
       "      <td>N754AS</td>\n",
       "      <td>SEA</td>\n",
       "      <td>SFO</td>\n",
       "      <td>1</td>\n",
       "    </tr>\n",
       "  </tbody>\n",
       "</table>\n",
       "</div>"
      ],
      "text/plain": [
       "  carrier tailnum origin dest  carrier_code\n",
       "0      WN  N455WN    PDX  SMF            10\n",
       "1      DL  N699DL    SEA  JNU             3\n",
       "2      AS  N442AS    SEA  LAS             1\n",
       "3      AA  N3CTAA    SEA  DFW             0\n",
       "4      AS  N754AS    SEA  SFO             1"
      ]
     },
     "execution_count": 40,
     "metadata": {},
     "output_type": "execute_result"
    }
   ],
   "source": [
    "# Results in a new column in the df\n",
    "cat_df_flights_sklearn.head()"
   ]
  },
  {
   "cell_type": "code",
   "execution_count": 41,
   "id": "da7da6b3",
   "metadata": {},
   "outputs": [
    {
     "data": {
      "text/plain": [
       "1     6181\n",
       "10    2362\n",
       "6     1891\n",
       "3     1695\n",
       "7     1666\n",
       "0      758\n",
       "8      601\n",
       "2      336\n",
       "9      331\n",
       "4      275\n",
       "5      109\n",
       "Name: carrier_code, dtype: int64"
      ]
     },
     "execution_count": 41,
     "metadata": {},
     "output_type": "execute_result"
    }
   ],
   "source": [
    "cat_df_flights_sklearn['carrier_code'].value_counts()"
   ]
  },
  {
   "cell_type": "markdown",
   "id": "0501677b",
   "metadata": {},
   "source": [
    "- The categories are labeled from **0 to 10**."
   ]
  },
  {
   "cell_type": "markdown",
   "id": "61852791",
   "metadata": {},
   "source": [
    "- **Label encoding** is pretty much **intuitive** and **straight-forward** and may give you a **good performance** from your learning algorithm.\n",
    "\n",
    "- But it has as **disadvantage** that the **numerical values** can be **misinterpreted** by the algorithm.\n",
    "\n",
    "  - **Should** the carrier **US** (encoded to **8**) be given **8x more weight than** the carrier **AS** (encoded to **1**) ?"
   ]
  },
  {
   "cell_type": "markdown",
   "id": "47b3dfda",
   "metadata": {},
   "source": [
    "## One-Hot Encoding"
   ]
  },
  {
   "cell_type": "markdown",
   "id": "92712b69",
   "metadata": {},
   "source": [
    "The basic strategy is to convert each category value into a new column and assign a 1 or 0 (True/False) value to the column.\n",
    "\n",
    "This has the benefit of not weighting a value improperly."
   ]
  },
  {
   "cell_type": "markdown",
   "id": "d1a47880",
   "metadata": {},
   "source": [
    "### Using pd.get_dummies()"
   ]
  },
  {
   "cell_type": "markdown",
   "id": "7d578bd2",
   "metadata": {},
   "source": [
    " There are many libraries out there that support one-hot encoding but the **simplest** one is using pandas' `.get_dummies()` method.\n",
    "\n",
    "- This function is **named** this way because it **creates dummy/indicator variables** (**1 or 0**).\n",
    "\n",
    "- There are **mainly three arguments** important here:\n",
    "  \n",
    "  - The **first** one is the **DataFrame** you want to encode on.\n",
    "  \n",
    "  - **Second** being the **columns** argument which lets you **specify** the **columns** you want to do **encoding** on.\n",
    "  \n",
    "  - And third, the **prefix** argument which lets you **specify** the **prefix** for the **new columns** that will be created after encoding."
   ]
  },
  {
   "cell_type": "code",
   "execution_count": 42,
   "id": "d4a96493",
   "metadata": {},
   "outputs": [],
   "source": [
    "cat_df_flights_onehot = cat_df_flights.copy()"
   ]
  },
  {
   "cell_type": "code",
   "execution_count": 43,
   "id": "2b3e75c4",
   "metadata": {},
   "outputs": [
    {
     "data": {
      "text/html": [
       "<div>\n",
       "<style scoped>\n",
       "    .dataframe tbody tr th:only-of-type {\n",
       "        vertical-align: middle;\n",
       "    }\n",
       "\n",
       "    .dataframe tbody tr th {\n",
       "        vertical-align: top;\n",
       "    }\n",
       "\n",
       "    .dataframe thead th {\n",
       "        text-align: right;\n",
       "    }\n",
       "</style>\n",
       "<table border=\"1\" class=\"dataframe\">\n",
       "  <thead>\n",
       "    <tr style=\"text-align: right;\">\n",
       "      <th></th>\n",
       "      <th>tailnum</th>\n",
       "      <th>origin</th>\n",
       "      <th>dest</th>\n",
       "      <th>carrier_AA</th>\n",
       "      <th>carrier_AS</th>\n",
       "      <th>carrier_B6</th>\n",
       "      <th>carrier_DL</th>\n",
       "      <th>carrier_F9</th>\n",
       "      <th>carrier_HA</th>\n",
       "      <th>carrier_OO</th>\n",
       "      <th>carrier_UA</th>\n",
       "      <th>carrier_US</th>\n",
       "      <th>carrier_VX</th>\n",
       "      <th>carrier_WN</th>\n",
       "    </tr>\n",
       "  </thead>\n",
       "  <tbody>\n",
       "    <tr>\n",
       "      <th>0</th>\n",
       "      <td>N455WN</td>\n",
       "      <td>PDX</td>\n",
       "      <td>SMF</td>\n",
       "      <td>0</td>\n",
       "      <td>0</td>\n",
       "      <td>0</td>\n",
       "      <td>0</td>\n",
       "      <td>0</td>\n",
       "      <td>0</td>\n",
       "      <td>0</td>\n",
       "      <td>0</td>\n",
       "      <td>0</td>\n",
       "      <td>0</td>\n",
       "      <td>1</td>\n",
       "    </tr>\n",
       "    <tr>\n",
       "      <th>1</th>\n",
       "      <td>N699DL</td>\n",
       "      <td>SEA</td>\n",
       "      <td>JNU</td>\n",
       "      <td>0</td>\n",
       "      <td>0</td>\n",
       "      <td>0</td>\n",
       "      <td>1</td>\n",
       "      <td>0</td>\n",
       "      <td>0</td>\n",
       "      <td>0</td>\n",
       "      <td>0</td>\n",
       "      <td>0</td>\n",
       "      <td>0</td>\n",
       "      <td>0</td>\n",
       "    </tr>\n",
       "    <tr>\n",
       "      <th>2</th>\n",
       "      <td>N442AS</td>\n",
       "      <td>SEA</td>\n",
       "      <td>LAS</td>\n",
       "      <td>0</td>\n",
       "      <td>1</td>\n",
       "      <td>0</td>\n",
       "      <td>0</td>\n",
       "      <td>0</td>\n",
       "      <td>0</td>\n",
       "      <td>0</td>\n",
       "      <td>0</td>\n",
       "      <td>0</td>\n",
       "      <td>0</td>\n",
       "      <td>0</td>\n",
       "    </tr>\n",
       "    <tr>\n",
       "      <th>3</th>\n",
       "      <td>N3CTAA</td>\n",
       "      <td>SEA</td>\n",
       "      <td>DFW</td>\n",
       "      <td>1</td>\n",
       "      <td>0</td>\n",
       "      <td>0</td>\n",
       "      <td>0</td>\n",
       "      <td>0</td>\n",
       "      <td>0</td>\n",
       "      <td>0</td>\n",
       "      <td>0</td>\n",
       "      <td>0</td>\n",
       "      <td>0</td>\n",
       "      <td>0</td>\n",
       "    </tr>\n",
       "    <tr>\n",
       "      <th>4</th>\n",
       "      <td>N754AS</td>\n",
       "      <td>SEA</td>\n",
       "      <td>SFO</td>\n",
       "      <td>0</td>\n",
       "      <td>1</td>\n",
       "      <td>0</td>\n",
       "      <td>0</td>\n",
       "      <td>0</td>\n",
       "      <td>0</td>\n",
       "      <td>0</td>\n",
       "      <td>0</td>\n",
       "      <td>0</td>\n",
       "      <td>0</td>\n",
       "      <td>0</td>\n",
       "    </tr>\n",
       "  </tbody>\n",
       "</table>\n",
       "</div>"
      ],
      "text/plain": [
       "  tailnum origin dest  carrier_AA  carrier_AS  carrier_B6  carrier_DL  \\\n",
       "0  N455WN    PDX  SMF           0           0           0           0   \n",
       "1  N699DL    SEA  JNU           0           0           0           1   \n",
       "2  N442AS    SEA  LAS           0           1           0           0   \n",
       "3  N3CTAA    SEA  DFW           1           0           0           0   \n",
       "4  N754AS    SEA  SFO           0           1           0           0   \n",
       "\n",
       "   carrier_F9  carrier_HA  carrier_OO  carrier_UA  carrier_US  carrier_VX  \\\n",
       "0           0           0           0           0           0           0   \n",
       "1           0           0           0           0           0           0   \n",
       "2           0           0           0           0           0           0   \n",
       "3           0           0           0           0           0           0   \n",
       "4           0           0           0           0           0           0   \n",
       "\n",
       "   carrier_WN  \n",
       "0           1  \n",
       "1           0  \n",
       "2           0  \n",
       "3           0  \n",
       "4           0  "
      ]
     },
     "execution_count": 43,
     "metadata": {},
     "output_type": "execute_result"
    }
   ],
   "source": [
    "cat_df_flights_onehot = pd.get_dummies(cat_df_flights_onehot, columns=['carrier'], prefix=['carrier'])\n",
    "cat_df_flights_onehot.head()"
   ]
  },
  {
   "cell_type": "markdown",
   "id": "e6c4b75d",
   "metadata": {},
   "source": [
    "- As you can see, the column `carrier_AS` gets value **1** at the **0th** and **4th** observation points as those points had the **AS category** labeled in the **original DataFrame**.\n",
    "\n",
    "- Likewise for other columns also."
   ]
  },
  {
   "cell_type": "markdown",
   "id": "fdcdb9b7",
   "metadata": {},
   "source": [
    "**Using LabelBinarizer or OneHotEncoder**"
   ]
  },
  {
   "cell_type": "markdown",
   "id": "198f60d4",
   "metadata": {},
   "source": [
    "- Scikit-learn also supports **one hot encoding** via `LabelBinarizer` and `OneHotEncoder` in its **preprocessing** module."
   ]
  },
  {
   "cell_type": "code",
   "execution_count": 44,
   "id": "3bf7783a",
   "metadata": {},
   "outputs": [],
   "source": [
    "from sklearn.preprocessing import LabelBinarizer"
   ]
  },
  {
   "cell_type": "code",
   "execution_count": 46,
   "id": "6bdb8b25",
   "metadata": {},
   "outputs": [],
   "source": [
    "cat_df_flights_onehot_sklearn = cat_df_flights.copy()"
   ]
  },
  {
   "cell_type": "markdown",
   "id": "67fe11e5",
   "metadata": {},
   "source": [
    "- **Creating** `LabelBinarizer` object and **transforming** the `carrier` column."
   ]
  },
  {
   "cell_type": "code",
   "execution_count": 47,
   "id": "d504b77c",
   "metadata": {},
   "outputs": [],
   "source": [
    "lb = LabelBinarizer()\n",
    "lb_results = lb.fit_transform(cat_df_flights_onehot_sklearn['carrier'])"
   ]
  },
  {
   "cell_type": "code",
   "execution_count": 48,
   "id": "0946fab9",
   "metadata": {},
   "outputs": [
    {
     "data": {
      "text/html": [
       "<div>\n",
       "<style scoped>\n",
       "    .dataframe tbody tr th:only-of-type {\n",
       "        vertical-align: middle;\n",
       "    }\n",
       "\n",
       "    .dataframe tbody tr th {\n",
       "        vertical-align: top;\n",
       "    }\n",
       "\n",
       "    .dataframe thead th {\n",
       "        text-align: right;\n",
       "    }\n",
       "</style>\n",
       "<table border=\"1\" class=\"dataframe\">\n",
       "  <thead>\n",
       "    <tr style=\"text-align: right;\">\n",
       "      <th></th>\n",
       "      <th>AA</th>\n",
       "      <th>AS</th>\n",
       "      <th>B6</th>\n",
       "      <th>DL</th>\n",
       "      <th>F9</th>\n",
       "      <th>HA</th>\n",
       "      <th>OO</th>\n",
       "      <th>UA</th>\n",
       "      <th>US</th>\n",
       "      <th>VX</th>\n",
       "      <th>WN</th>\n",
       "    </tr>\n",
       "  </thead>\n",
       "  <tbody>\n",
       "    <tr>\n",
       "      <th>0</th>\n",
       "      <td>0</td>\n",
       "      <td>0</td>\n",
       "      <td>0</td>\n",
       "      <td>0</td>\n",
       "      <td>0</td>\n",
       "      <td>0</td>\n",
       "      <td>0</td>\n",
       "      <td>0</td>\n",
       "      <td>0</td>\n",
       "      <td>0</td>\n",
       "      <td>1</td>\n",
       "    </tr>\n",
       "    <tr>\n",
       "      <th>1</th>\n",
       "      <td>0</td>\n",
       "      <td>0</td>\n",
       "      <td>0</td>\n",
       "      <td>1</td>\n",
       "      <td>0</td>\n",
       "      <td>0</td>\n",
       "      <td>0</td>\n",
       "      <td>0</td>\n",
       "      <td>0</td>\n",
       "      <td>0</td>\n",
       "      <td>0</td>\n",
       "    </tr>\n",
       "    <tr>\n",
       "      <th>2</th>\n",
       "      <td>0</td>\n",
       "      <td>1</td>\n",
       "      <td>0</td>\n",
       "      <td>0</td>\n",
       "      <td>0</td>\n",
       "      <td>0</td>\n",
       "      <td>0</td>\n",
       "      <td>0</td>\n",
       "      <td>0</td>\n",
       "      <td>0</td>\n",
       "      <td>0</td>\n",
       "    </tr>\n",
       "    <tr>\n",
       "      <th>3</th>\n",
       "      <td>1</td>\n",
       "      <td>0</td>\n",
       "      <td>0</td>\n",
       "      <td>0</td>\n",
       "      <td>0</td>\n",
       "      <td>0</td>\n",
       "      <td>0</td>\n",
       "      <td>0</td>\n",
       "      <td>0</td>\n",
       "      <td>0</td>\n",
       "      <td>0</td>\n",
       "    </tr>\n",
       "    <tr>\n",
       "      <th>4</th>\n",
       "      <td>0</td>\n",
       "      <td>1</td>\n",
       "      <td>0</td>\n",
       "      <td>0</td>\n",
       "      <td>0</td>\n",
       "      <td>0</td>\n",
       "      <td>0</td>\n",
       "      <td>0</td>\n",
       "      <td>0</td>\n",
       "      <td>0</td>\n",
       "      <td>0</td>\n",
       "    </tr>\n",
       "  </tbody>\n",
       "</table>\n",
       "</div>"
      ],
      "text/plain": [
       "   AA  AS  B6  DL  F9  HA  OO  UA  US  VX  WN\n",
       "0   0   0   0   0   0   0   0   0   0   0   1\n",
       "1   0   0   0   1   0   0   0   0   0   0   0\n",
       "2   0   1   0   0   0   0   0   0   0   0   0\n",
       "3   1   0   0   0   0   0   0   0   0   0   0\n",
       "4   0   1   0   0   0   0   0   0   0   0   0"
      ]
     },
     "execution_count": 48,
     "metadata": {},
     "output_type": "execute_result"
    }
   ],
   "source": [
    "lb_results_df = pd.DataFrame(lb_results, columns=lb.classes_)\n",
    "lb_results_df.head()"
   ]
  },
  {
   "cell_type": "markdown",
   "id": "483812e9",
   "metadata": {},
   "source": [
    "- Note that this **lb_results_df** resulted in a new DataFrame with only the one hot encodings for the feature carrier.\n",
    "\n",
    "- This needs to be **concatenated** back with the original DataFrame, which can be done via pandas' `.concat()` method.\n",
    "\n",
    "  - The **axis** argument is set to **1** as you want to **merge** on **columns**.\n",
    "\n",
    "- **Concatenating** the **one-hot encoded values** with the **original** dataframe."
   ]
  },
  {
   "cell_type": "code",
   "execution_count": 49,
   "id": "23542de9",
   "metadata": {},
   "outputs": [
    {
     "data": {
      "text/html": [
       "<div>\n",
       "<style scoped>\n",
       "    .dataframe tbody tr th:only-of-type {\n",
       "        vertical-align: middle;\n",
       "    }\n",
       "\n",
       "    .dataframe tbody tr th {\n",
       "        vertical-align: top;\n",
       "    }\n",
       "\n",
       "    .dataframe thead th {\n",
       "        text-align: right;\n",
       "    }\n",
       "</style>\n",
       "<table border=\"1\" class=\"dataframe\">\n",
       "  <thead>\n",
       "    <tr style=\"text-align: right;\">\n",
       "      <th></th>\n",
       "      <th>carrier</th>\n",
       "      <th>tailnum</th>\n",
       "      <th>origin</th>\n",
       "      <th>dest</th>\n",
       "      <th>AA</th>\n",
       "      <th>AS</th>\n",
       "      <th>B6</th>\n",
       "      <th>DL</th>\n",
       "      <th>F9</th>\n",
       "      <th>HA</th>\n",
       "      <th>OO</th>\n",
       "      <th>UA</th>\n",
       "      <th>US</th>\n",
       "      <th>VX</th>\n",
       "      <th>WN</th>\n",
       "    </tr>\n",
       "  </thead>\n",
       "  <tbody>\n",
       "    <tr>\n",
       "      <th>0</th>\n",
       "      <td>WN</td>\n",
       "      <td>N455WN</td>\n",
       "      <td>PDX</td>\n",
       "      <td>SMF</td>\n",
       "      <td>0</td>\n",
       "      <td>0</td>\n",
       "      <td>0</td>\n",
       "      <td>0</td>\n",
       "      <td>0</td>\n",
       "      <td>0</td>\n",
       "      <td>0</td>\n",
       "      <td>0</td>\n",
       "      <td>0</td>\n",
       "      <td>0</td>\n",
       "      <td>1</td>\n",
       "    </tr>\n",
       "    <tr>\n",
       "      <th>1</th>\n",
       "      <td>DL</td>\n",
       "      <td>N699DL</td>\n",
       "      <td>SEA</td>\n",
       "      <td>JNU</td>\n",
       "      <td>0</td>\n",
       "      <td>0</td>\n",
       "      <td>0</td>\n",
       "      <td>1</td>\n",
       "      <td>0</td>\n",
       "      <td>0</td>\n",
       "      <td>0</td>\n",
       "      <td>0</td>\n",
       "      <td>0</td>\n",
       "      <td>0</td>\n",
       "      <td>0</td>\n",
       "    </tr>\n",
       "    <tr>\n",
       "      <th>2</th>\n",
       "      <td>AS</td>\n",
       "      <td>N442AS</td>\n",
       "      <td>SEA</td>\n",
       "      <td>LAS</td>\n",
       "      <td>0</td>\n",
       "      <td>1</td>\n",
       "      <td>0</td>\n",
       "      <td>0</td>\n",
       "      <td>0</td>\n",
       "      <td>0</td>\n",
       "      <td>0</td>\n",
       "      <td>0</td>\n",
       "      <td>0</td>\n",
       "      <td>0</td>\n",
       "      <td>0</td>\n",
       "    </tr>\n",
       "    <tr>\n",
       "      <th>3</th>\n",
       "      <td>AA</td>\n",
       "      <td>N3CTAA</td>\n",
       "      <td>SEA</td>\n",
       "      <td>DFW</td>\n",
       "      <td>1</td>\n",
       "      <td>0</td>\n",
       "      <td>0</td>\n",
       "      <td>0</td>\n",
       "      <td>0</td>\n",
       "      <td>0</td>\n",
       "      <td>0</td>\n",
       "      <td>0</td>\n",
       "      <td>0</td>\n",
       "      <td>0</td>\n",
       "      <td>0</td>\n",
       "    </tr>\n",
       "    <tr>\n",
       "      <th>4</th>\n",
       "      <td>AS</td>\n",
       "      <td>N754AS</td>\n",
       "      <td>SEA</td>\n",
       "      <td>SFO</td>\n",
       "      <td>0</td>\n",
       "      <td>1</td>\n",
       "      <td>0</td>\n",
       "      <td>0</td>\n",
       "      <td>0</td>\n",
       "      <td>0</td>\n",
       "      <td>0</td>\n",
       "      <td>0</td>\n",
       "      <td>0</td>\n",
       "      <td>0</td>\n",
       "      <td>0</td>\n",
       "    </tr>\n",
       "  </tbody>\n",
       "</table>\n",
       "</div>"
      ],
      "text/plain": [
       "  carrier tailnum origin dest  AA  AS  B6  DL  F9  HA  OO  UA  US  VX  WN\n",
       "0      WN  N455WN    PDX  SMF   0   0   0   0   0   0   0   0   0   0   1\n",
       "1      DL  N699DL    SEA  JNU   0   0   0   1   0   0   0   0   0   0   0\n",
       "2      AS  N442AS    SEA  LAS   0   1   0   0   0   0   0   0   0   0   0\n",
       "3      AA  N3CTAA    SEA  DFW   1   0   0   0   0   0   0   0   0   0   0\n",
       "4      AS  N754AS    SEA  SFO   0   1   0   0   0   0   0   0   0   0   0"
      ]
     },
     "execution_count": 49,
     "metadata": {},
     "output_type": "execute_result"
    }
   ],
   "source": [
    "result_df = pd.concat([cat_df_flights_onehot_sklearn, lb_results_df], axis=1)\n",
    "result_df.head()"
   ]
  },
  {
   "cell_type": "markdown",
   "id": "c66a9fba",
   "metadata": {},
   "source": [
    "- While one-hot encoding **solves** the **problem of unequal weights** given to **categories** within a feature.\n",
    "\n",
    "- It is **not very useful** when there are **many categories**, as that will result in **formation** of as **many new columns**, which can result in the **curse of dimensionality**."
   ]
  },
  {
   "cell_type": "markdown",
   "id": "abdf6f04",
   "metadata": {},
   "source": [
    "# Feature Scaling"
   ]
  },
  {
   "cell_type": "code",
   "execution_count": null,
   "id": "dd5d004a",
   "metadata": {},
   "outputs": [],
   "source": []
  },
  {
   "cell_type": "code",
   "execution_count": null,
   "id": "6cbcfa59",
   "metadata": {},
   "outputs": [],
   "source": []
  },
  {
   "cell_type": "code",
   "execution_count": null,
   "id": "8416ea89",
   "metadata": {},
   "outputs": [],
   "source": []
  },
  {
   "cell_type": "code",
   "execution_count": null,
   "id": "599d6e19",
   "metadata": {},
   "outputs": [],
   "source": []
  },
  {
   "cell_type": "code",
   "execution_count": null,
   "id": "75aee62b",
   "metadata": {},
   "outputs": [],
   "source": []
  },
  {
   "cell_type": "code",
   "execution_count": null,
   "id": "a6d7d9cf",
   "metadata": {},
   "outputs": [],
   "source": []
  },
  {
   "cell_type": "code",
   "execution_count": null,
   "id": "7e2f904b",
   "metadata": {},
   "outputs": [],
   "source": []
  },
  {
   "cell_type": "code",
   "execution_count": null,
   "id": "27d81da1",
   "metadata": {},
   "outputs": [],
   "source": []
  }
 ],
 "metadata": {
  "kernelspec": {
   "display_name": "Python 3",
   "language": "python",
   "name": "python3"
  },
  "language_info": {
   "codemirror_mode": {
    "name": "ipython",
    "version": 3
   },
   "file_extension": ".py",
   "mimetype": "text/x-python",
   "name": "python",
   "nbconvert_exporter": "python",
   "pygments_lexer": "ipython3",
   "version": "3.8.8"
  }
 },
 "nbformat": 4,
 "nbformat_minor": 5
}
