{
 "cells": [
  {
   "cell_type": "code",
   "execution_count": 1,
   "id": "be5c230d",
   "metadata": {},
   "outputs": [],
   "source": [
    "from langchain import PromptTemplate\n",
    "from langchain.chains import RetrievalQA\n",
    "from langchain.embeddings import HuggingFaceEmbeddings\n",
    "from langchain.vectorstores import Pinecone\n",
    "import pinecone\n",
    "from langchain.document_loaders import PyPDFLoader, DirectoryLoader\n",
    "from langchain.text_splitter import RecursiveCharacterTextSplitter\n",
    "from langchain.prompts import PromptTemplate\n",
    "from langchain_community.llms import CTransformers\n",
    "# from langchain.llms import CTransformers"
   ]
  },
  {
   "cell_type": "code",
   "execution_count": 13,
   "id": "d5b0bf12",
   "metadata": {},
   "outputs": [],
   "source": [
    "PINECONE_API_KEY=\"07e76e54-e4af-46ba-8590-7635881e8101\""
   ]
  },
  {
   "cell_type": "code",
   "execution_count": 3,
   "id": "ea20d9ef",
   "metadata": {},
   "outputs": [],
   "source": [
    "def load_pdf(data):\n",
    "    loader = DirectoryLoader(data,\n",
    "                    glob=\"*.pdf\",\n",
    "                    loader_cls=PyPDFLoader)\n",
    "    \n",
    "    documents = loader.load()\n",
    "\n",
    "    return documents"
   ]
  },
  {
   "cell_type": "code",
   "execution_count": 4,
   "id": "9e3de2b5",
   "metadata": {},
   "outputs": [
    {
     "ename": "KeyboardInterrupt",
     "evalue": "",
     "output_type": "error",
     "traceback": [
      "\u001b[1;31m---------------------------------------------------------------------------\u001b[0m",
      "\u001b[1;31mKeyboardInterrupt\u001b[0m                         Traceback (most recent call last)",
      "Cell \u001b[1;32mIn [4], line 1\u001b[0m\n\u001b[1;32m----> 1\u001b[0m extracted_data \u001b[38;5;241m=\u001b[39m \u001b[43mload_pdf\u001b[49m\u001b[43m(\u001b[49m\u001b[38;5;124;43m\"\u001b[39;49m\u001b[38;5;124;43mdata/\u001b[39;49m\u001b[38;5;124;43m\"\u001b[39;49m\u001b[43m)\u001b[49m\n",
      "Cell \u001b[1;32mIn [3], line 6\u001b[0m, in \u001b[0;36mload_pdf\u001b[1;34m(data)\u001b[0m\n\u001b[0;32m      1\u001b[0m \u001b[38;5;28;01mdef\u001b[39;00m \u001b[38;5;21mload_pdf\u001b[39m(data):\n\u001b[0;32m      2\u001b[0m     loader \u001b[38;5;241m=\u001b[39m DirectoryLoader(data,\n\u001b[0;32m      3\u001b[0m                     glob\u001b[38;5;241m=\u001b[39m\u001b[38;5;124m\"\u001b[39m\u001b[38;5;124m*.pdf\u001b[39m\u001b[38;5;124m\"\u001b[39m,\n\u001b[0;32m      4\u001b[0m                     loader_cls\u001b[38;5;241m=\u001b[39mPyPDFLoader)\n\u001b[1;32m----> 6\u001b[0m     documents \u001b[38;5;241m=\u001b[39m \u001b[43mloader\u001b[49m\u001b[38;5;241;43m.\u001b[39;49m\u001b[43mload\u001b[49m\u001b[43m(\u001b[49m\u001b[43m)\u001b[49m\n\u001b[0;32m      8\u001b[0m     \u001b[38;5;28;01mreturn\u001b[39;00m documents\n",
      "File \u001b[1;32mc:\\users\\yash sangwan\\appdata\\local\\programs\\python\\python39\\lib\\site-packages\\langchain_community\\document_loaders\\directory.py:117\u001b[0m, in \u001b[0;36mDirectoryLoader.load\u001b[1;34m(self)\u001b[0m\n\u001b[0;32m    115\u001b[0m \u001b[38;5;28;01mdef\u001b[39;00m \u001b[38;5;21mload\u001b[39m(\u001b[38;5;28mself\u001b[39m) \u001b[38;5;241m-\u001b[39m\u001b[38;5;241m>\u001b[39m List[Document]:\n\u001b[0;32m    116\u001b[0m     \u001b[38;5;124;03m\"\"\"Load documents.\"\"\"\u001b[39;00m\n\u001b[1;32m--> 117\u001b[0m     \u001b[38;5;28;01mreturn\u001b[39;00m \u001b[38;5;28;43mlist\u001b[39;49m\u001b[43m(\u001b[49m\u001b[38;5;28;43mself\u001b[39;49m\u001b[38;5;241;43m.\u001b[39;49m\u001b[43mlazy_load\u001b[49m\u001b[43m(\u001b[49m\u001b[43m)\u001b[49m\u001b[43m)\u001b[49m\n",
      "File \u001b[1;32mc:\\users\\yash sangwan\\appdata\\local\\programs\\python\\python39\\lib\\site-packages\\langchain_community\\document_loaders\\directory.py:181\u001b[0m, in \u001b[0;36mDirectoryLoader.lazy_load\u001b[1;34m(self)\u001b[0m\n\u001b[0;32m    179\u001b[0m \u001b[38;5;28;01melse\u001b[39;00m:\n\u001b[0;32m    180\u001b[0m     \u001b[38;5;28;01mfor\u001b[39;00m i \u001b[38;5;129;01min\u001b[39;00m items:\n\u001b[1;32m--> 181\u001b[0m         \u001b[38;5;28;01myield from\u001b[39;00m \u001b[38;5;28mself\u001b[39m\u001b[38;5;241m.\u001b[39m_lazy_load_file(i, p, pbar)\n\u001b[0;32m    183\u001b[0m \u001b[38;5;28;01mif\u001b[39;00m pbar:\n\u001b[0;32m    184\u001b[0m     pbar\u001b[38;5;241m.\u001b[39mclose()\n",
      "File \u001b[1;32mc:\\users\\yash sangwan\\appdata\\local\\programs\\python\\python39\\lib\\site-packages\\langchain_community\\document_loaders\\directory.py:209\u001b[0m, in \u001b[0;36mDirectoryLoader._lazy_load_file\u001b[1;34m(self, item, path, pbar)\u001b[0m\n\u001b[0;32m    207\u001b[0m loader \u001b[38;5;241m=\u001b[39m \u001b[38;5;28mself\u001b[39m\u001b[38;5;241m.\u001b[39mloader_cls(\u001b[38;5;28mstr\u001b[39m(item), \u001b[38;5;241m*\u001b[39m\u001b[38;5;241m*\u001b[39m\u001b[38;5;28mself\u001b[39m\u001b[38;5;241m.\u001b[39mloader_kwargs)\n\u001b[0;32m    208\u001b[0m \u001b[38;5;28;01mtry\u001b[39;00m:\n\u001b[1;32m--> 209\u001b[0m     \u001b[38;5;28;01mfor\u001b[39;00m subdoc \u001b[38;5;129;01min\u001b[39;00m loader\u001b[38;5;241m.\u001b[39mlazy_load():\n\u001b[0;32m    210\u001b[0m         \u001b[38;5;28;01myield\u001b[39;00m subdoc\n\u001b[0;32m    211\u001b[0m \u001b[38;5;28;01mexcept\u001b[39;00m \u001b[38;5;167;01mNotImplementedError\u001b[39;00m:\n",
      "File \u001b[1;32mc:\\users\\yash sangwan\\appdata\\local\\programs\\python\\python39\\lib\\site-packages\\langchain_community\\document_loaders\\pdf.py:193\u001b[0m, in \u001b[0;36mPyPDFLoader.lazy_load\u001b[1;34m(self)\u001b[0m\n\u001b[0;32m    191\u001b[0m \u001b[38;5;28;01melse\u001b[39;00m:\n\u001b[0;32m    192\u001b[0m     blob \u001b[38;5;241m=\u001b[39m Blob\u001b[38;5;241m.\u001b[39mfrom_path(\u001b[38;5;28mself\u001b[39m\u001b[38;5;241m.\u001b[39mfile_path)  \u001b[38;5;66;03m# type: ignore[attr-defined]\u001b[39;00m\n\u001b[1;32m--> 193\u001b[0m \u001b[38;5;28;01myield from\u001b[39;00m \u001b[38;5;28;43mself\u001b[39;49m\u001b[38;5;241;43m.\u001b[39;49m\u001b[43mparser\u001b[49m\u001b[38;5;241;43m.\u001b[39;49m\u001b[43mparse\u001b[49m\u001b[43m(\u001b[49m\u001b[43mblob\u001b[49m\u001b[43m)\u001b[49m\n",
      "File \u001b[1;32mc:\\users\\yash sangwan\\appdata\\local\\programs\\python\\python39\\lib\\site-packages\\langchain_core\\document_loaders\\base.py:125\u001b[0m, in \u001b[0;36mBaseBlobParser.parse\u001b[1;34m(self, blob)\u001b[0m\n\u001b[0;32m    110\u001b[0m \u001b[38;5;28;01mdef\u001b[39;00m \u001b[38;5;21mparse\u001b[39m(\u001b[38;5;28mself\u001b[39m, blob: Blob) \u001b[38;5;241m-\u001b[39m\u001b[38;5;241m>\u001b[39m List[Document]:\n\u001b[0;32m    111\u001b[0m     \u001b[38;5;124;03m\"\"\"Eagerly parse the blob into a document or documents.\u001b[39;00m\n\u001b[0;32m    112\u001b[0m \n\u001b[0;32m    113\u001b[0m \u001b[38;5;124;03m    This is a convenience method for interactive development environment.\u001b[39;00m\n\u001b[1;32m   (...)\u001b[0m\n\u001b[0;32m    123\u001b[0m \u001b[38;5;124;03m        List of documents\u001b[39;00m\n\u001b[0;32m    124\u001b[0m \u001b[38;5;124;03m    \"\"\"\u001b[39;00m\n\u001b[1;32m--> 125\u001b[0m     \u001b[38;5;28;01mreturn\u001b[39;00m \u001b[38;5;28;43mlist\u001b[39;49m\u001b[43m(\u001b[49m\u001b[38;5;28;43mself\u001b[39;49m\u001b[38;5;241;43m.\u001b[39;49m\u001b[43mlazy_parse\u001b[49m\u001b[43m(\u001b[49m\u001b[43mblob\u001b[49m\u001b[43m)\u001b[49m\u001b[43m)\u001b[49m\n",
      "File \u001b[1;32mc:\\users\\yash sangwan\\appdata\\local\\programs\\python\\python39\\lib\\site-packages\\langchain_community\\document_loaders\\parsers\\pdf.py:96\u001b[0m, in \u001b[0;36mPyPDFParser.lazy_parse\u001b[1;34m(self, blob)\u001b[0m\n\u001b[0;32m     94\u001b[0m \u001b[38;5;28;01mwith\u001b[39;00m blob\u001b[38;5;241m.\u001b[39mas_bytes_io() \u001b[38;5;28;01mas\u001b[39;00m pdf_file_obj:  \u001b[38;5;66;03m# type: ignore[attr-defined]\u001b[39;00m\n\u001b[0;32m     95\u001b[0m     pdf_reader \u001b[38;5;241m=\u001b[39m pypdf\u001b[38;5;241m.\u001b[39mPdfReader(pdf_file_obj, password\u001b[38;5;241m=\u001b[39m\u001b[38;5;28mself\u001b[39m\u001b[38;5;241m.\u001b[39mpassword)\n\u001b[1;32m---> 96\u001b[0m     \u001b[38;5;28;01myield from\u001b[39;00m [\n\u001b[0;32m     97\u001b[0m         Document(\n\u001b[0;32m     98\u001b[0m             page_content\u001b[38;5;241m=\u001b[39mpage\u001b[38;5;241m.\u001b[39mextract_text()\n\u001b[0;32m     99\u001b[0m             \u001b[38;5;241m+\u001b[39m \u001b[38;5;28mself\u001b[39m\u001b[38;5;241m.\u001b[39m_extract_images_from_page(page),\n\u001b[0;32m    100\u001b[0m             metadata\u001b[38;5;241m=\u001b[39m{\u001b[38;5;124m\"\u001b[39m\u001b[38;5;124msource\u001b[39m\u001b[38;5;124m\"\u001b[39m: blob\u001b[38;5;241m.\u001b[39msource, \u001b[38;5;124m\"\u001b[39m\u001b[38;5;124mpage\u001b[39m\u001b[38;5;124m\"\u001b[39m: page_number},  \u001b[38;5;66;03m# type: ignore[attr-defined]\u001b[39;00m\n\u001b[0;32m    101\u001b[0m         )\n\u001b[0;32m    102\u001b[0m         \u001b[38;5;28;01mfor\u001b[39;00m page_number, page \u001b[38;5;129;01min\u001b[39;00m \u001b[38;5;28menumerate\u001b[39m(pdf_reader\u001b[38;5;241m.\u001b[39mpages)\n\u001b[0;32m    103\u001b[0m     ]\n",
      "File \u001b[1;32mc:\\users\\yash sangwan\\appdata\\local\\programs\\python\\python39\\lib\\site-packages\\langchain_community\\document_loaders\\parsers\\pdf.py:98\u001b[0m, in \u001b[0;36m<listcomp>\u001b[1;34m(.0)\u001b[0m\n\u001b[0;32m     94\u001b[0m \u001b[38;5;28;01mwith\u001b[39;00m blob\u001b[38;5;241m.\u001b[39mas_bytes_io() \u001b[38;5;28;01mas\u001b[39;00m pdf_file_obj:  \u001b[38;5;66;03m# type: ignore[attr-defined]\u001b[39;00m\n\u001b[0;32m     95\u001b[0m     pdf_reader \u001b[38;5;241m=\u001b[39m pypdf\u001b[38;5;241m.\u001b[39mPdfReader(pdf_file_obj, password\u001b[38;5;241m=\u001b[39m\u001b[38;5;28mself\u001b[39m\u001b[38;5;241m.\u001b[39mpassword)\n\u001b[0;32m     96\u001b[0m     \u001b[38;5;28;01myield from\u001b[39;00m [\n\u001b[0;32m     97\u001b[0m         Document(\n\u001b[1;32m---> 98\u001b[0m             page_content\u001b[38;5;241m=\u001b[39m\u001b[43mpage\u001b[49m\u001b[38;5;241;43m.\u001b[39;49m\u001b[43mextract_text\u001b[49m\u001b[43m(\u001b[49m\u001b[43m)\u001b[49m\n\u001b[0;32m     99\u001b[0m             \u001b[38;5;241m+\u001b[39m \u001b[38;5;28mself\u001b[39m\u001b[38;5;241m.\u001b[39m_extract_images_from_page(page),\n\u001b[0;32m    100\u001b[0m             metadata\u001b[38;5;241m=\u001b[39m{\u001b[38;5;124m\"\u001b[39m\u001b[38;5;124msource\u001b[39m\u001b[38;5;124m\"\u001b[39m: blob\u001b[38;5;241m.\u001b[39msource, \u001b[38;5;124m\"\u001b[39m\u001b[38;5;124mpage\u001b[39m\u001b[38;5;124m\"\u001b[39m: page_number},  \u001b[38;5;66;03m# type: ignore[attr-defined]\u001b[39;00m\n\u001b[0;32m    101\u001b[0m         )\n\u001b[0;32m    102\u001b[0m         \u001b[38;5;28;01mfor\u001b[39;00m page_number, page \u001b[38;5;129;01min\u001b[39;00m \u001b[38;5;28menumerate\u001b[39m(pdf_reader\u001b[38;5;241m.\u001b[39mpages)\n\u001b[0;32m    103\u001b[0m     ]\n",
      "File \u001b[1;32mc:\\users\\yash sangwan\\appdata\\local\\programs\\python\\python39\\lib\\site-packages\\pypdf\\_page.py:2083\u001b[0m, in \u001b[0;36mPageObject.extract_text\u001b[1;34m(self, orientations, space_width, visitor_operand_before, visitor_operand_after, visitor_text, extraction_mode, *args, **kwargs)\u001b[0m\n\u001b[0;32m   2080\u001b[0m \u001b[38;5;28;01mif\u001b[39;00m \u001b[38;5;28misinstance\u001b[39m(orientations, \u001b[38;5;28mint\u001b[39m):\n\u001b[0;32m   2081\u001b[0m     orientations \u001b[38;5;241m=\u001b[39m (orientations,)\n\u001b[1;32m-> 2083\u001b[0m \u001b[38;5;28;01mreturn\u001b[39;00m \u001b[38;5;28;43mself\u001b[39;49m\u001b[38;5;241;43m.\u001b[39;49m\u001b[43m_extract_text\u001b[49m\u001b[43m(\u001b[49m\n\u001b[0;32m   2084\u001b[0m \u001b[43m    \u001b[49m\u001b[38;5;28;43mself\u001b[39;49m\u001b[43m,\u001b[49m\n\u001b[0;32m   2085\u001b[0m \u001b[43m    \u001b[49m\u001b[38;5;28;43mself\u001b[39;49m\u001b[38;5;241;43m.\u001b[39;49m\u001b[43mpdf\u001b[49m\u001b[43m,\u001b[49m\n\u001b[0;32m   2086\u001b[0m \u001b[43m    \u001b[49m\u001b[43morientations\u001b[49m\u001b[43m,\u001b[49m\n\u001b[0;32m   2087\u001b[0m \u001b[43m    \u001b[49m\u001b[43mspace_width\u001b[49m\u001b[43m,\u001b[49m\n\u001b[0;32m   2088\u001b[0m \u001b[43m    \u001b[49m\u001b[43mPG\u001b[49m\u001b[38;5;241;43m.\u001b[39;49m\u001b[43mCONTENTS\u001b[49m\u001b[43m,\u001b[49m\n\u001b[0;32m   2089\u001b[0m \u001b[43m    \u001b[49m\u001b[43mvisitor_operand_before\u001b[49m\u001b[43m,\u001b[49m\n\u001b[0;32m   2090\u001b[0m \u001b[43m    \u001b[49m\u001b[43mvisitor_operand_after\u001b[49m\u001b[43m,\u001b[49m\n\u001b[0;32m   2091\u001b[0m \u001b[43m    \u001b[49m\u001b[43mvisitor_text\u001b[49m\u001b[43m,\u001b[49m\n\u001b[0;32m   2092\u001b[0m \u001b[43m\u001b[49m\u001b[43m)\u001b[49m\n",
      "File \u001b[1;32mc:\\users\\yash sangwan\\appdata\\local\\programs\\python\\python39\\lib\\site-packages\\pypdf\\_page.py:1804\u001b[0m, in \u001b[0;36mPageObject._extract_text\u001b[1;34m(self, obj, pdf, orientations, space_width, content_key, visitor_operand_before, visitor_operand_after, visitor_text)\u001b[0m\n\u001b[0;32m   1801\u001b[0m         \u001b[38;5;28;01mexcept\u001b[39;00m OrientationNotFoundError:\n\u001b[0;32m   1802\u001b[0m             \u001b[38;5;28;01mreturn\u001b[39;00m \u001b[38;5;28;01mNone\u001b[39;00m\n\u001b[1;32m-> 1804\u001b[0m \u001b[38;5;28;01mfor\u001b[39;00m operands, operator \u001b[38;5;129;01min\u001b[39;00m \u001b[43mcontent\u001b[49m\u001b[38;5;241;43m.\u001b[39;49m\u001b[43moperations\u001b[49m:\n\u001b[0;32m   1805\u001b[0m     \u001b[38;5;28;01mif\u001b[39;00m visitor_operand_before \u001b[38;5;129;01mis\u001b[39;00m \u001b[38;5;129;01mnot\u001b[39;00m \u001b[38;5;28;01mNone\u001b[39;00m:\n\u001b[0;32m   1806\u001b[0m         visitor_operand_before(operator, operands, cm_matrix, tm_matrix)\n",
      "File \u001b[1;32mc:\\users\\yash sangwan\\appdata\\local\\programs\\python\\python39\\lib\\site-packages\\pypdf\\generic\\_data_structures.py:1245\u001b[0m, in \u001b[0;36mContentStream.operations\u001b[1;34m(self)\u001b[0m\n\u001b[0;32m   1242\u001b[0m \u001b[38;5;129m@property\u001b[39m\n\u001b[0;32m   1243\u001b[0m \u001b[38;5;28;01mdef\u001b[39;00m \u001b[38;5;21moperations\u001b[39m(\u001b[38;5;28mself\u001b[39m) \u001b[38;5;241m-\u001b[39m\u001b[38;5;241m>\u001b[39m List[Tuple[Any, Any]]:\n\u001b[0;32m   1244\u001b[0m     \u001b[38;5;28;01mif\u001b[39;00m \u001b[38;5;129;01mnot\u001b[39;00m \u001b[38;5;28mself\u001b[39m\u001b[38;5;241m.\u001b[39m_operations \u001b[38;5;129;01mand\u001b[39;00m \u001b[38;5;28mself\u001b[39m\u001b[38;5;241m.\u001b[39m_data:\n\u001b[1;32m-> 1245\u001b[0m         \u001b[38;5;28;43mself\u001b[39;49m\u001b[38;5;241;43m.\u001b[39;49m\u001b[43m_parse_content_stream\u001b[49m\u001b[43m(\u001b[49m\u001b[43mBytesIO\u001b[49m\u001b[43m(\u001b[49m\u001b[43mb_\u001b[49m\u001b[43m(\u001b[49m\u001b[38;5;28;43mself\u001b[39;49m\u001b[38;5;241;43m.\u001b[39;49m\u001b[43m_data\u001b[49m\u001b[43m)\u001b[49m\u001b[43m)\u001b[49m\u001b[43m)\u001b[49m\n\u001b[0;32m   1246\u001b[0m         \u001b[38;5;28mself\u001b[39m\u001b[38;5;241m.\u001b[39m_data \u001b[38;5;241m=\u001b[39m \u001b[38;5;124mb\u001b[39m\u001b[38;5;124m\"\u001b[39m\u001b[38;5;124m\"\u001b[39m\n\u001b[0;32m   1247\u001b[0m     \u001b[38;5;28;01mreturn\u001b[39;00m \u001b[38;5;28mself\u001b[39m\u001b[38;5;241m.\u001b[39m_operations\n",
      "File \u001b[1;32mc:\\users\\yash sangwan\\appdata\\local\\programs\\python\\python39\\lib\\site-packages\\pypdf\\generic\\_data_structures.py:1135\u001b[0m, in \u001b[0;36mContentStream._parse_content_stream\u001b[1;34m(self, stream)\u001b[0m\n\u001b[0;32m   1133\u001b[0m         peek \u001b[38;5;241m=\u001b[39m stream\u001b[38;5;241m.\u001b[39mread(\u001b[38;5;241m1\u001b[39m)\n\u001b[0;32m   1134\u001b[0m \u001b[38;5;28;01melse\u001b[39;00m:\n\u001b[1;32m-> 1135\u001b[0m     operands\u001b[38;5;241m.\u001b[39mappend(\u001b[43mread_object\u001b[49m\u001b[43m(\u001b[49m\u001b[43mstream\u001b[49m\u001b[43m,\u001b[49m\u001b[43m \u001b[49m\u001b[38;5;28;43;01mNone\u001b[39;49;00m\u001b[43m,\u001b[49m\u001b[43m \u001b[49m\u001b[38;5;28;43mself\u001b[39;49m\u001b[38;5;241;43m.\u001b[39;49m\u001b[43mforced_encoding\u001b[49m\u001b[43m)\u001b[49m)\n",
      "File \u001b[1;32mc:\\users\\yash sangwan\\appdata\\local\\programs\\python\\python39\\lib\\site-packages\\pypdf\\generic\\_data_structures.py:1317\u001b[0m, in \u001b[0;36mread_object\u001b[1;34m(stream, pdf, forced_encoding)\u001b[0m\n\u001b[0;32m   1315\u001b[0m         \u001b[38;5;28;01mreturn\u001b[39;00m IndirectObject\u001b[38;5;241m.\u001b[39mread_from_stream(stream, pdf)\n\u001b[0;32m   1316\u001b[0m     \u001b[38;5;28;01melse\u001b[39;00m:\n\u001b[1;32m-> 1317\u001b[0m         \u001b[38;5;28;01mreturn\u001b[39;00m \u001b[43mNumberObject\u001b[49m\u001b[38;5;241;43m.\u001b[39;49m\u001b[43mread_from_stream\u001b[49m\u001b[43m(\u001b[49m\u001b[43mstream\u001b[49m\u001b[43m)\u001b[49m\n\u001b[0;32m   1318\u001b[0m \u001b[38;5;28;01melse\u001b[39;00m:\n\u001b[0;32m   1319\u001b[0m     stream\u001b[38;5;241m.\u001b[39mseek(\u001b[38;5;241m-\u001b[39m\u001b[38;5;241m20\u001b[39m, \u001b[38;5;241m1\u001b[39m)\n",
      "File \u001b[1;32mc:\\users\\yash sangwan\\appdata\\local\\programs\\python\\python39\\lib\\site-packages\\pypdf\\generic\\_base.py:458\u001b[0m, in \u001b[0;36mNumberObject.read_from_stream\u001b[1;34m(stream)\u001b[0m\n\u001b[0;32m    456\u001b[0m num \u001b[38;5;241m=\u001b[39m read_until_regex(stream, NumberObject\u001b[38;5;241m.\u001b[39mNumberPattern)\n\u001b[0;32m    457\u001b[0m \u001b[38;5;28;01mif\u001b[39;00m num\u001b[38;5;241m.\u001b[39mfind(\u001b[38;5;124mb\u001b[39m\u001b[38;5;124m\"\u001b[39m\u001b[38;5;124m.\u001b[39m\u001b[38;5;124m\"\u001b[39m) \u001b[38;5;241m!=\u001b[39m \u001b[38;5;241m-\u001b[39m\u001b[38;5;241m1\u001b[39m:\n\u001b[1;32m--> 458\u001b[0m     \u001b[38;5;28;01mreturn\u001b[39;00m \u001b[43mFloatObject\u001b[49m\u001b[43m(\u001b[49m\u001b[43mnum\u001b[49m\u001b[43m)\u001b[49m\n\u001b[0;32m    459\u001b[0m \u001b[38;5;28;01mreturn\u001b[39;00m NumberObject(num)\n",
      "File \u001b[1;32mc:\\users\\yash sangwan\\appdata\\local\\programs\\python\\python39\\lib\\site-packages\\pypdf\\generic\\_base.py:376\u001b[0m, in \u001b[0;36mFloatObject.__new__\u001b[1;34m(cls, value, context)\u001b[0m\n\u001b[0;32m    374\u001b[0m \u001b[38;5;28;01mtry\u001b[39;00m:\n\u001b[0;32m    375\u001b[0m     value \u001b[38;5;241m=\u001b[39m \u001b[38;5;28mfloat\u001b[39m(str_(value))\n\u001b[1;32m--> 376\u001b[0m     \u001b[38;5;28;01mreturn\u001b[39;00m \u001b[38;5;28;43mfloat\u001b[39;49m\u001b[38;5;241m.\u001b[39m\u001b[38;5;21m__new__\u001b[39m(\u001b[38;5;28mcls\u001b[39m, value)\n\u001b[0;32m    377\u001b[0m \u001b[38;5;28;01mexcept\u001b[39;00m \u001b[38;5;167;01mException\u001b[39;00m \u001b[38;5;28;01mas\u001b[39;00m e:\n\u001b[0;32m    378\u001b[0m     \u001b[38;5;66;03m# If this isn't a valid decimal (happens in malformed PDFs)\u001b[39;00m\n\u001b[0;32m    379\u001b[0m     \u001b[38;5;66;03m# fallback to 0\u001b[39;00m\n\u001b[0;32m    380\u001b[0m     logger_warning(\n\u001b[0;32m    381\u001b[0m         \u001b[38;5;124mf\u001b[39m\u001b[38;5;124m\"\u001b[39m\u001b[38;5;132;01m{\u001b[39;00me\u001b[38;5;132;01m}\u001b[39;00m\u001b[38;5;124m : FloatObject (\u001b[39m\u001b[38;5;132;01m{\u001b[39;00mvalue\u001b[38;5;132;01m}\u001b[39;00m\u001b[38;5;124m) invalid; use 0.0 instead\u001b[39m\u001b[38;5;124m\"\u001b[39m, \u001b[38;5;18m__name__\u001b[39m\n\u001b[0;32m    382\u001b[0m     )\n",
      "\u001b[1;31mKeyboardInterrupt\u001b[0m: "
     ]
    }
   ],
   "source": [
    "extracted_data = load_pdf(\"data/\")"
   ]
  },
  {
   "cell_type": "code",
   "execution_count": 7,
   "id": "9bda1f7a",
   "metadata": {},
   "outputs": [],
   "source": [
    "def text_split(extracted_data):\n",
    "    text_splitter = RecursiveCharacterTextSplitter(chunk_size = 500, chunk_overlap = 20)\n",
    "    text_chunks = text_splitter.split_documents(extracted_data)\n",
    "\n",
    "    return text_chunks"
   ]
  },
  {
   "cell_type": "code",
   "execution_count": 8,
   "id": "40ad3c14",
   "metadata": {},
   "outputs": [
    {
     "name": "stdout",
     "output_type": "stream",
     "text": [
      "length of my chunk: 3259\n"
     ]
    }
   ],
   "source": [
    "text_chunks = text_split(extracted_data)\n",
    "print(\"length of my chunk:\", len(text_chunks))"
   ]
  },
  {
   "cell_type": "code",
   "execution_count": 9,
   "id": "85d6f53d",
   "metadata": {},
   "outputs": [],
   "source": [
    "def download_hugging_face_embeddings():\n",
    "    embeddings = HuggingFaceEmbeddings(model_name=\"sentence-transformers/all-MiniLM-L6-v2\")\n",
    "    return embeddings"
   ]
  },
  {
   "cell_type": "code",
   "execution_count": 10,
   "id": "c3d9a904",
   "metadata": {},
   "outputs": [],
   "source": [
    "from sentence_transformers import SentenceTransformer\n",
    "model = SentenceTransformer('sentence-transformers/all-MiniLM-L6-v2')"
   ]
  },
  {
   "cell_type": "code",
   "execution_count": 10,
   "id": "f3b63664",
   "metadata": {
    "scrolled": false
   },
   "outputs": [],
   "source": [
    "embeddings = HuggingFaceEmbeddings(model_name=\"sentence-transformers/all-MiniLM-L6-v2\")"
   ]
  },
  {
   "cell_type": "code",
   "execution_count": 11,
   "id": "dbb9da14",
   "metadata": {},
   "outputs": [
    {
     "data": {
      "text/plain": [
       "HuggingFaceEmbeddings(client=SentenceTransformer(\n",
       "  (0): Transformer({'max_seq_length': 256, 'do_lower_case': False}) with Transformer model: BertModel \n",
       "  (1): Pooling({'word_embedding_dimension': 384, 'pooling_mode_cls_token': False, 'pooling_mode_mean_tokens': True, 'pooling_mode_max_tokens': False, 'pooling_mode_mean_sqrt_len_tokens': False})\n",
       "  (2): Normalize()\n",
       "), model_name='sentence-transformers/all-MiniLM-L6-v2', cache_folder=None, model_kwargs={}, encode_kwargs={}, multi_process=False, show_progress=False)"
      ]
     },
     "execution_count": 11,
     "metadata": {},
     "output_type": "execute_result"
    }
   ],
   "source": [
    "embeddings"
   ]
  },
  {
   "cell_type": "code",
   "execution_count": 12,
   "id": "c9105488",
   "metadata": {},
   "outputs": [
    {
     "name": "stdout",
     "output_type": "stream",
     "text": [
      "Length 384\n"
     ]
    }
   ],
   "source": [
    "query_result = embeddings.embed_query(\"Hello world\")\n",
    "print(\"Length\", len(query_result))"
   ]
  },
  {
   "cell_type": "code",
   "execution_count": 14,
   "id": "5045fc28",
   "metadata": {},
   "outputs": [
    {
     "data": {
      "text/plain": [
       "[-0.034477267414331436,\n",
       " 0.031023206189274788,\n",
       " 0.006734929047524929,\n",
       " 0.026108982041478157,\n",
       " -0.03936203196644783,\n",
       " -0.16030243039131165,\n",
       " 0.06692398339509964,\n",
       " -0.006441489793360233,\n",
       " -0.04745049402117729,\n",
       " 0.014758839271962643,\n",
       " 0.07087527960538864,\n",
       " 0.05552763119339943,\n",
       " 0.01919335499405861,\n",
       " -0.026251323521137238,\n",
       " -0.010109569877386093,\n",
       " -0.02694045566022396,\n",
       " 0.022307392209768295,\n",
       " -0.02222662791609764,\n",
       " -0.14969263970851898,\n",
       " -0.017493031919002533,\n",
       " 0.007676294539123774,\n",
       " 0.054352253675460815,\n",
       " 0.0032544503919780254,\n",
       " 0.031725917011499405,\n",
       " -0.08462144434452057,\n",
       " -0.029405998066067696,\n",
       " 0.051595620810985565,\n",
       " 0.048124048858881,\n",
       " -0.00331486901268363,\n",
       " -0.058279212564229965,\n",
       " 0.041969265788793564,\n",
       " 0.022210726514458656,\n",
       " 0.12818878889083862,\n",
       " -0.02233896590769291,\n",
       " -0.011656217277050018,\n",
       " 0.06292834132909775,\n",
       " -0.032876402139663696,\n",
       " -0.09122605621814728,\n",
       " -0.03117532841861248,\n",
       " 0.05269954353570938,\n",
       " 0.047034818679094315,\n",
       " -0.08420311659574509,\n",
       " -0.030056139454245567,\n",
       " -0.020744847133755684,\n",
       " 0.00951785035431385,\n",
       " -0.0037217815406620502,\n",
       " 0.007343289442360401,\n",
       " 0.039324335753917694,\n",
       " 0.09327401965856552,\n",
       " -0.0037885704077780247,\n",
       " -0.05274210125207901,\n",
       " -0.05805816128849983,\n",
       " -0.0068643661215901375,\n",
       " 0.005283265374600887,\n",
       " 0.08289296180009842,\n",
       " 0.019362766295671463,\n",
       " 0.006284523755311966,\n",
       " -0.010330776683986187,\n",
       " 0.009032350033521652,\n",
       " -0.03768376260995865,\n",
       " -0.04520610347390175,\n",
       " 0.024016328155994415,\n",
       " -0.006944178603589535,\n",
       " 0.013491666875779629,\n",
       " 0.10005496442317963,\n",
       " -0.07168389856815338,\n",
       " -0.0216950885951519,\n",
       " 0.0316183976829052,\n",
       " -0.051634643226861954,\n",
       " -0.08224772661924362,\n",
       " -0.06569328159093857,\n",
       " -0.009895360097289085,\n",
       " 0.005816400051116943,\n",
       " 0.07355451583862305,\n",
       " -0.034050293266773224,\n",
       " 0.024886099621653557,\n",
       " 0.014488058164715767,\n",
       " 0.02645733207464218,\n",
       " 0.009656756184995174,\n",
       " 0.030217278748750687,\n",
       " 0.05280396714806557,\n",
       " -0.07535987347364426,\n",
       " 0.009897195734083652,\n",
       " 0.02983679249882698,\n",
       " 0.01755557581782341,\n",
       " 0.023091968148946762,\n",
       " 0.001933887368068099,\n",
       " 0.0014001816743984818,\n",
       " -0.04717600718140602,\n",
       " -0.011194308288395405,\n",
       " -0.11420147120952606,\n",
       " -0.019811974838376045,\n",
       " 0.040266212075948715,\n",
       " 0.002192983403801918,\n",
       " -0.07979220151901245,\n",
       " -0.025382336229085922,\n",
       " 0.09448299556970596,\n",
       " -0.028981046751141548,\n",
       " -0.145002543926239,\n",
       " 0.23097741603851318,\n",
       " 0.02773120254278183,\n",
       " 0.03211143612861633,\n",
       " 0.031065043061971664,\n",
       " 0.0428328700363636,\n",
       " 0.06423782557249069,\n",
       " 0.03216315805912018,\n",
       " -0.004876766353845596,\n",
       " 0.0556994192302227,\n",
       " -0.03753232955932617,\n",
       " -0.021505534648895264,\n",
       " -0.028342677280306816,\n",
       " -0.028846904635429382,\n",
       " 0.038353074342012405,\n",
       " -0.01746865175664425,\n",
       " 0.052485328167676926,\n",
       " -0.07487606257200241,\n",
       " -0.031259745359420776,\n",
       " 0.021841589361429214,\n",
       " -0.03989570587873459,\n",
       " -0.008587072603404522,\n",
       " 0.02695656754076481,\n",
       " -0.04849553853273392,\n",
       " 0.01146987359970808,\n",
       " 0.02961820736527443,\n",
       " -0.020572206005454063,\n",
       " 0.013103843666613102,\n",
       " 0.02883346751332283,\n",
       " -3.194198717480234e-33,\n",
       " 0.06478208303451538,\n",
       " -0.018130162730813026,\n",
       " 0.05178993567824364,\n",
       " 0.12198273092508316,\n",
       " 0.02878018654882908,\n",
       " 0.008721956983208656,\n",
       " -0.07052122056484222,\n",
       " -0.01690729148685932,\n",
       " 0.04073967784643173,\n",
       " 0.04211616888642311,\n",
       " 0.025447174906730652,\n",
       " 0.0357462540268898,\n",
       " -0.04914470762014389,\n",
       " 0.0021290022414177656,\n",
       " -0.015546590089797974,\n",
       " 0.05073055997490883,\n",
       " -0.0481853112578392,\n",
       " 0.03588065132498741,\n",
       " -0.0040669748559594154,\n",
       " 0.10172472149133682,\n",
       " -0.05597000569105148,\n",
       " -0.010681062936782837,\n",
       " 0.01123578567057848,\n",
       " 0.09068655967712402,\n",
       " 0.004234429448843002,\n",
       " 0.035138651728630066,\n",
       " -0.00970285665243864,\n",
       " -0.09386516362428665,\n",
       " 0.0928555503487587,\n",
       " 0.008004932664334774,\n",
       " -0.007705426309257746,\n",
       " -0.05208666995167732,\n",
       " -0.01258796639740467,\n",
       " 0.0032669196370989084,\n",
       " 0.006013510283082724,\n",
       " 0.007581599522382021,\n",
       " 0.010517144575715065,\n",
       " -0.08634555339813232,\n",
       " -0.06987880915403366,\n",
       " -0.002533914986997843,\n",
       " -0.09097655117511749,\n",
       " 0.04688732698559761,\n",
       " 0.0520765483379364,\n",
       " 0.007193876430392265,\n",
       " 0.010903693735599518,\n",
       " -0.005229538306593895,\n",
       " 0.01393736433237791,\n",
       " 0.021968355402350426,\n",
       " 0.03420860692858696,\n",
       " 0.060224711894989014,\n",
       " 0.00011668332444969565,\n",
       " 0.014731977134943008,\n",
       " -0.07008923590183258,\n",
       " 0.028499027714133263,\n",
       " -0.027601705864071846,\n",
       " 0.01076838281005621,\n",
       " 0.03483099117875099,\n",
       " -0.022487888112664223,\n",
       " 0.009769042022526264,\n",
       " 0.07722783833742142,\n",
       " 0.021588364616036415,\n",
       " 0.11495617032051086,\n",
       " -0.0680011734366417,\n",
       " 0.023760948330163956,\n",
       " -0.015983937308192253,\n",
       " -0.01782693713903427,\n",
       " 0.06439489126205444,\n",
       " 0.032025717198848724,\n",
       " 0.05027022212743759,\n",
       " -0.005913727451115847,\n",
       " -0.03370805084705353,\n",
       " 0.017840318381786346,\n",
       " 0.016573376953601837,\n",
       " 0.0632965937256813,\n",
       " 0.03467715159058571,\n",
       " 0.046473462134599686,\n",
       " 0.09790615737438202,\n",
       " -0.006635511759668589,\n",
       " 0.025207115337252617,\n",
       " -0.07798829674720764,\n",
       " 0.01692643202841282,\n",
       " -0.0009457895648665726,\n",
       " 0.022471901029348373,\n",
       " -0.038253217935562134,\n",
       " 0.09570480138063431,\n",
       " -0.005350861698389053,\n",
       " 0.01046909298747778,\n",
       " -0.11524059623479843,\n",
       " -0.013262546621263027,\n",
       " -0.01070947851985693,\n",
       " -0.08311733603477478,\n",
       " 0.07327356934547424,\n",
       " 0.0493922233581543,\n",
       " -0.008994347415864468,\n",
       " -0.09584552049636841,\n",
       " 3.36614782706661e-33,\n",
       " 0.12493177503347397,\n",
       " 0.019349701702594757,\n",
       " -0.05822572857141495,\n",
       " -0.03598823398351669,\n",
       " -0.05074669048190117,\n",
       " -0.045662377029657364,\n",
       " -0.08260341733694077,\n",
       " 0.14819476008415222,\n",
       " -0.08842121064662933,\n",
       " 0.06027442589402199,\n",
       " 0.05103018507361412,\n",
       " 0.010303172282874584,\n",
       " 0.14121422171592712,\n",
       " 0.030813805758953094,\n",
       " 0.061033133417367935,\n",
       " -0.05285126343369484,\n",
       " 0.13664892315864563,\n",
       " 0.009189915843307972,\n",
       " -0.01732519455254078,\n",
       " -0.012848632410168648,\n",
       " -0.007995259016752243,\n",
       " -0.050980012863874435,\n",
       " -0.05235058441758156,\n",
       " 0.007593023590743542,\n",
       " -0.015166297554969788,\n",
       " 0.01696031726896763,\n",
       " 0.021270547062158585,\n",
       " 0.020558040589094162,\n",
       " -0.12002810090780258,\n",
       " 0.01446179673075676,\n",
       " 0.026759929955005646,\n",
       " 0.025330713018774986,\n",
       " -0.04275466129183769,\n",
       " 0.006768449675291777,\n",
       " -0.014458579011261463,\n",
       " 0.04526194557547569,\n",
       " -0.09147652983665466,\n",
       " -0.019439082592725754,\n",
       " -0.017833532765507698,\n",
       " -0.054910123348236084,\n",
       " -0.05264108628034592,\n",
       " -0.010459048673510551,\n",
       " -0.05201604217290878,\n",
       " 0.02089199237525463,\n",
       " -0.07997027784585953,\n",
       " -0.01211128756403923,\n",
       " -0.057731445878744125,\n",
       " 0.023178208619356155,\n",
       " -0.008031727746129036,\n",
       " -0.025989286601543427,\n",
       " -0.07995668798685074,\n",
       " -0.020728835836052895,\n",
       " 0.0488177128136158,\n",
       " -0.02038915455341339,\n",
       " -0.04917658120393753,\n",
       " 0.014159676618874073,\n",
       " -0.06362204998731613,\n",
       " -0.007807373534888029,\n",
       " 0.016431551426649094,\n",
       " -0.025682521983981133,\n",
       " 0.013381141237914562,\n",
       " 0.026248741894960403,\n",
       " 0.009978409856557846,\n",
       " 0.06322891265153885,\n",
       " 0.002672187052667141,\n",
       " -0.006582782603800297,\n",
       " 0.016631923615932465,\n",
       " 0.03236640617251396,\n",
       " 0.03794242814183235,\n",
       " -0.03637608513236046,\n",
       " -0.006910961586982012,\n",
       " 0.00015965897182468325,\n",
       " -0.0016335470136255026,\n",
       " -0.027278143912553787,\n",
       " -0.02803812548518181,\n",
       " 0.049681439995765686,\n",
       " -0.02886725217103958,\n",
       " -0.002418083604425192,\n",
       " 0.014774886891245842,\n",
       " 0.0097645940259099,\n",
       " 0.005797603167593479,\n",
       " 0.013486184179782867,\n",
       " 0.005567966494709253,\n",
       " 0.03722710162401199,\n",
       " 0.0072324699722230434,\n",
       " 0.040156275033950806,\n",
       " 0.08150329440832138,\n",
       " 0.0719916969537735,\n",
       " -0.013056163676083088,\n",
       " -0.04288205876946449,\n",
       " -0.01101123820990324,\n",
       " 0.004897788166999817,\n",
       " -0.009229675866663456,\n",
       " 0.03519143536686897,\n",
       " -0.05103500187397003,\n",
       " -1.571437557856825e-08,\n",
       " -0.08862444758415222,\n",
       " 0.023909326642751694,\n",
       " -0.016238754615187645,\n",
       " 0.031700499355793,\n",
       " 0.02728426828980446,\n",
       " 0.052468784153461456,\n",
       " -0.04707099497318268,\n",
       " -0.05884745717048645,\n",
       " -0.06320817023515701,\n",
       " 0.04088853672146797,\n",
       " 0.04982801526784897,\n",
       " 0.10655171424150467,\n",
       " -0.07450231909751892,\n",
       " -0.012495404109358788,\n",
       " 0.01837068609893322,\n",
       " 0.039474062621593475,\n",
       " -0.024797867983579636,\n",
       " 0.014516236260533333,\n",
       " -0.03706920146942139,\n",
       " 0.020015694200992584,\n",
       " -4.860065018874593e-05,\n",
       " 0.00986657477915287,\n",
       " 0.024838773533701897,\n",
       " -0.05245812609791756,\n",
       " 0.029314259067177773,\n",
       " -0.08719190955162048,\n",
       " -0.014499680139124393,\n",
       " 0.026019100099802017,\n",
       " -0.01874633878469467,\n",
       " -0.07620517909526825,\n",
       " 0.035043299198150635,\n",
       " 0.10363949835300446,\n",
       " -0.028050484135746956,\n",
       " 0.012718163430690765,\n",
       " -0.07632549852132797,\n",
       " -0.018652379512786865,\n",
       " 0.02497672103345394,\n",
       " 0.08144532889127731,\n",
       " 0.06875884532928467,\n",
       " -0.06405662000179291,\n",
       " -0.08389385044574738,\n",
       " 0.0613623671233654,\n",
       " -0.03354554623365402,\n",
       " -0.10615334659814835,\n",
       " -0.04008055850863457,\n",
       " 0.032530203461647034,\n",
       " 0.07662484794855118,\n",
       " -0.07301618903875351,\n",
       " 0.00033756825723685324,\n",
       " -0.040871620178222656,\n",
       " -0.07578851282596588,\n",
       " 0.02752765268087387,\n",
       " 0.07462538778781891,\n",
       " 0.01771732047200203,\n",
       " 0.0912184938788414,\n",
       " 0.11022018641233444,\n",
       " 0.0005697841988876462,\n",
       " 0.05146336182951927,\n",
       " -0.014551290310919285,\n",
       " 0.03323199227452278,\n",
       " 0.023792298510670662,\n",
       " -0.022889820858836174,\n",
       " 0.03893749788403511,\n",
       " 0.030206842347979546]"
      ]
     },
     "execution_count": 14,
     "metadata": {},
     "output_type": "execute_result"
    }
   ],
   "source": [
    "query_result"
   ]
  },
  {
   "cell_type": "code",
   "execution_count": 15,
   "id": "128ac922",
   "metadata": {
    "scrolled": true
   },
   "outputs": [
    {
     "ename": "TypeError",
     "evalue": "__init__() missing 1 required positional argument: 'host'",
     "output_type": "error",
     "traceback": [
      "\u001b[1;31m---------------------------------------------------------------------------\u001b[0m",
      "\u001b[1;31mTypeError\u001b[0m                                 Traceback (most recent call last)",
      "Cell \u001b[1;32mIn [15], line 2\u001b[0m\n\u001b[0;32m      1\u001b[0m index_name\u001b[38;5;241m=\u001b[39m\u001b[38;5;124m\"\u001b[39m\u001b[38;5;124mmchat\u001b[39m\u001b[38;5;124m\"\u001b[39m\n\u001b[1;32m----> 2\u001b[0m docsearch \u001b[38;5;241m=\u001b[39m \u001b[43mPinecone\u001b[49m\u001b[38;5;241;43m.\u001b[39;49m\u001b[43mfrom_existing_index\u001b[49m\u001b[43m(\u001b[49m\u001b[43mindex_name\u001b[49m\u001b[43m,\u001b[49m\u001b[43m \u001b[49m\u001b[43membeddings\u001b[49m\u001b[43m)\u001b[49m\n",
      "File \u001b[1;32mc:\\users\\yash sangwan\\appdata\\local\\programs\\python\\python39\\lib\\site-packages\\langchain\\vectorstores\\pinecone.py:354\u001b[0m, in \u001b[0;36mPinecone.from_existing_index\u001b[1;34m(cls, index_name, embedding, text_key, namespace)\u001b[0m\n\u001b[0;32m    347\u001b[0m \u001b[38;5;28;01mexcept\u001b[39;00m \u001b[38;5;167;01mImportError\u001b[39;00m:\n\u001b[0;32m    348\u001b[0m     \u001b[38;5;28;01mraise\u001b[39;00m \u001b[38;5;167;01mValueError\u001b[39;00m(\n\u001b[0;32m    349\u001b[0m         \u001b[38;5;124m\"\u001b[39m\u001b[38;5;124mCould not import pinecone python package. \u001b[39m\u001b[38;5;124m\"\u001b[39m\n\u001b[0;32m    350\u001b[0m         \u001b[38;5;124m\"\u001b[39m\u001b[38;5;124mPlease install it with `pip install pinecone-client`.\u001b[39m\u001b[38;5;124m\"\u001b[39m\n\u001b[0;32m    351\u001b[0m     )\n\u001b[0;32m    353\u001b[0m \u001b[38;5;28;01mreturn\u001b[39;00m \u001b[38;5;28mcls\u001b[39m(\n\u001b[1;32m--> 354\u001b[0m     \u001b[43mpinecone\u001b[49m\u001b[38;5;241;43m.\u001b[39;49m\u001b[43mIndex\u001b[49m\u001b[43m(\u001b[49m\u001b[43mindex_name\u001b[49m\u001b[43m)\u001b[49m, embedding\u001b[38;5;241m.\u001b[39membed_query, text_key, namespace\n\u001b[0;32m    355\u001b[0m )\n",
      "\u001b[1;31mTypeError\u001b[0m: __init__() missing 1 required positional argument: 'host'"
     ]
    }
   ],
   "source": []
  },
  {
   "cell_type": "code",
   "execution_count": 14,
   "id": "a088f753",
   "metadata": {},
   "outputs": [],
   "source": [
    "import os\n",
    "os.environ['PINECONE_API_KEY'] = PINECONE_API_KEY"
   ]
  },
  {
   "cell_type": "code",
   "execution_count": null,
   "id": "62fd51db",
   "metadata": {},
   "outputs": [],
   "source": [
    "from langchain_pinecone import PineconeVectorStore\n",
    "docs_chunks = [t.page_content for t in text_chunks]\n",
    "index_name=\"mchat\"\n",
    "vectorstore_from_texts = PineconeVectorStore.from_texts(\n",
    "        docs_chunks,\n",
    "        index_name=index_name,\n",
    "        embedding=embeddings\n",
    "    )"
   ]
  },
  {
   "cell_type": "code",
   "execution_count": 8,
   "id": "aca9558e",
   "metadata": {},
   "outputs": [],
   "source": [
    "from langchain_pinecone import PineconeVectorStore\n",
    "index_name=\"mchat\""
   ]
  },
  {
   "cell_type": "code",
   "execution_count": null,
   "id": "6320b646",
   "metadata": {},
   "outputs": [],
   "source": [
    "# pc = pinecone.Pinecone(api_key=PINECONE_API_KEY)\n",
    "\n",
    "\n",
    "# index_name=\"mchat\"\n",
    "\n",
    "# if index_name not in pc.list_indexes().names():\n",
    "#     # do something\n",
    "#     pc.create_index(index_name)\n",
    "\n",
    "#     #Creating Embeddings for Each of The Text Chunks & storing\n",
    "# docs_chunks = [t.page_content for t in text_chunks]\n",
    "# docsearch=Pinecone.from_texts(docs_chunks, embedding=embeddings, index_name=index_name)\n",
    "\n"
   ]
  },
  {
   "cell_type": "code",
   "execution_count": null,
   "id": "31e361cc",
   "metadata": {},
   "outputs": [],
   "source": [
    "PINECONE_API_KEY"
   ]
  },
  {
   "cell_type": "code",
   "execution_count": 15,
   "id": "c7804eb1",
   "metadata": {},
   "outputs": [
    {
     "name": "stdout",
     "output_type": "stream",
     "text": [
      "Result [Document(page_content='II Chapter 1 \\nGeneral background to clinical tuberculosis \\n1.1 Introduction \\n• About this book \\nThis book is written for non-specialist hospital doctors, doctors in primary health \\ncare and other health professionals who may meet tuberculosis in the course of \\ntheir work. Almost all patients with newly diagnosed tuberculosis can be cured if \\nproperly treated. Many will die if they are not properly treated. As a responsible \\ndoctor or health worker, therefore: \\n~ do not miss the diagnosis'), Document(page_content='it if you always keep the possibility in mind. Always remember the four questions \\nset out at the beginning of this chapter (page 23). \\nIn children you must think of tuberculosis as a generalized disease that may \\nappear in any part of the body -not necessarily with cough and sputum (which \\nmay be blood stained) as is usual in adults. The ways it presents is described in \\nSection 2.3. \\nIn children it is difficult to prove the diagnosis by finding TB. This does not'), Document(page_content='may also develop in patients infected with HIV. As these bacilli are resistant to \\nmost commonly used drugs, the disease is more difficult to treat.) \\nNearly all tuberculosis in countries with a high burden of the disease is caused \\nby the common TB, M. tuberculosis, so that is what most of this book is about . \\n• Infection and disease \\nIn the past, when tuberculosis was Widespread in industrialized countries, it \\nwas possible to show by skin-testing with tuberculin that most young adults had')]\n"
     ]
    }
   ],
   "source": [
    "docsearch=PineconeVectorStore.from_existing_index(index_name,embeddings)\n",
    "\n",
    "query = \"What is tuberculosis\"\n",
    "\n",
    "docs=docsearch.similarity_search(query, k=3)\n",
    "\n",
    "print(\"Result\", docs)"
   ]
  },
  {
   "cell_type": "code",
   "execution_count": 16,
   "id": "b6fec9a1",
   "metadata": {},
   "outputs": [],
   "source": [
    "prompt_template=\"\"\"\n",
    "Use the following pieces of information to answer the user's question.\n",
    "If you don't know the answer, just say that you don't know, don't try to make up an answer.\n",
    "\n",
    "Context: {context}\n",
    "Question: {question}\n",
    "\n",
    "Only return the helpful answer below and nothing else.\n",
    "Helpful answer:\n",
    "\"\"\""
   ]
  },
  {
   "cell_type": "code",
   "execution_count": 22,
   "id": "97f414fd",
   "metadata": {},
   "outputs": [],
   "source": [
    "PROMPT=PromptTemplate(template=prompt_template, input_variables=[\"context\", \"question\"])\n",
    "chain_type_kwargs={\"prompt\": PROMPT}"
   ]
  },
  {
   "cell_type": "code",
   "execution_count": 23,
   "id": "d7aa9f44",
   "metadata": {},
   "outputs": [],
   "source": [
    "llm=CTransformers(model=\"model/llama-2-7b-chat.ggmlv3.q4_0.bin\",\n",
    "                  model_type=\"llama\",\n",
    "                  config={'max_new_tokens':4096,\n",
    "                          'temperature':0.8}\n",
    "                 ) "
   ]
  },
  {
   "cell_type": "code",
   "execution_count": 24,
   "id": "a88a4534",
   "metadata": {},
   "outputs": [
    {
     "data": {
      "text/plain": [
       "langchain_community.llms.ctransformers.CTransformers"
      ]
     },
     "execution_count": 24,
     "metadata": {},
     "output_type": "execute_result"
    }
   ],
   "source": [
    "type(llm)"
   ]
  },
  {
   "cell_type": "code",
   "execution_count": 25,
   "id": "d61980b1",
   "metadata": {},
   "outputs": [],
   "source": [
    "qa=RetrievalQA.from_chain_type(\n",
    "    llm=llm, \n",
    "    chain_type=\"stuff\", \n",
    "    retriever=docsearch.as_retriever(search_kwargs={'k': 3}), \n",
    "    return_source_documents=True, \n",
    "    chain_type_kwargs=chain_type_kwargs) "
   ]
  },
  {
   "cell_type": "code",
   "execution_count": null,
   "id": "64ad5696",
   "metadata": {},
   "outputs": [
    {
     "name": "stdout",
     "output_type": "stream",
     "text": [
      "Input Prompt:what is tuberculosis\n"
     ]
    },
    {
     "name": "stderr",
     "output_type": "stream",
     "text": [
      "c:\\users\\yash sangwan\\appdata\\local\\programs\\python\\python39\\lib\\site-packages\\langchain_core\\_api\\deprecation.py:119: LangChainDeprecationWarning: The method `Chain.__call__` was deprecated in langchain 0.1.0 and will be removed in 0.2.0. Use invoke instead.\n",
      "  warn_deprecated(\n"
     ]
    }
   ],
   "source": [
    "while True:\n",
    "    user_input=input(f\"Input Prompt:\")\n",
    "    result=qa({\"query\": user_input})\n",
    "    print(\"Response : \", result[\"result\"])\n"
   ]
  },
  {
   "cell_type": "code",
   "execution_count": null,
   "id": "bd12f2f4",
   "metadata": {},
   "outputs": [],
   "source": []
  }
 ],
 "metadata": {
  "kernelspec": {
   "display_name": "Python 3 (ipykernel)",
   "language": "python",
   "name": "python3"
  },
  "language_info": {
   "codemirror_mode": {
    "name": "ipython",
    "version": 3
   },
   "file_extension": ".py",
   "mimetype": "text/x-python",
   "name": "python",
   "nbconvert_exporter": "python",
   "pygments_lexer": "ipython3",
   "version": "3.9.6"
  }
 },
 "nbformat": 4,
 "nbformat_minor": 5
}
